{
 "cells": [
  {
   "cell_type": "code",
   "execution_count": 1,
   "metadata": {},
   "outputs": [],
   "source": [
    "import numpy as np"
   ]
  },
  {
   "cell_type": "code",
   "execution_count": 2,
   "metadata": {},
   "outputs": [],
   "source": [
    "X = np.array([[1,0,2,3],[4,6,6,8],[3,1,1,0],[1,2,2,4]])"
   ]
  },
  {
   "cell_type": "code",
   "execution_count": null,
   "metadata": {},
   "outputs": [],
   "source": [
    "def pooling(X,mode=\"max\"):\n",
    "    \n",
    "    h = X.shape[0]\n",
    "    w = X.shape[1]\n",
    "    \n",
    "    stride = 2\n",
    "    f = 2\n",
    "    \n",
    "    h0 = int((h-f)/stride) + 1\n",
    "    w0 = int((w-f)/stride) + 1\n",
    "    \n",
    "    output = np.zeros((h0,w0))\n",
    "    \n",
    "    for row in range(h0):\n",
    "        for col in range(w0):\n",
    "            \n",
    "            s_row = row*stride\n",
    "            e_row = row*stride+f\n",
    "            \n",
    "            s_col = col*stride\n",
    "            e_col = col*stride+f\n",
    "            \n",
    "            X_slice = X[s_row:e_row,s_col:e_col]\n",
    "            \n",
    "            if mode == 'max':\n",
    "                output[row][col] = np.max(X_slice)\n",
    "                \n",
    "            else:\n",
    "                output[row][col] = np."
   ]
  }
 ],
 "metadata": {
  "kernelspec": {
   "display_name": "Python 3",
   "language": "python",
   "name": "python3"
  },
  "language_info": {
   "codemirror_mode": {
    "name": "ipython",
    "version": 3
   },
   "file_extension": ".py",
   "mimetype": "text/x-python",
   "name": "python",
   "nbconvert_exporter": "python",
   "pygments_lexer": "ipython3",
   "version": "3.7.1"
  }
 },
 "nbformat": 4,
 "nbformat_minor": 2
}
