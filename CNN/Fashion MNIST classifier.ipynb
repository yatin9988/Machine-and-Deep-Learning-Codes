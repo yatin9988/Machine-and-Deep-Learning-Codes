{
 "cells": [
  {
   "cell_type": "code",
   "execution_count": 1,
   "metadata": {},
   "outputs": [],
   "source": [
    "import numpy as np\n",
    "import matplotlib.pyplot as plt\n",
    "import pandas as pd"
   ]
  },
  {
   "cell_type": "code",
   "execution_count": 2,
   "metadata": {},
   "outputs": [],
   "source": [
    "from tensorflow.keras.utils import to_categorical\n",
    "from tensorflow.keras.models import Sequential\n",
    "from tensorflow.keras.layers import Dense,Convolution2D,MaxPool2D,Dropout,Flatten,MaxPooling2D\n",
    "from tensorflow.keras.callbacks import ModelCheckpoint,EarlyStopping"
   ]
  },
  {
   "cell_type": "code",
   "execution_count": 3,
   "metadata": {},
   "outputs": [],
   "source": [
    "Xtrain = pd.read_csv('fashion-mnist.csv')"
   ]
  },
  {
   "cell_type": "code",
   "execution_count": 4,
   "metadata": {},
   "outputs": [
    {
     "data": {
      "text/html": [
       "<div>\n",
       "<style scoped>\n",
       "    .dataframe tbody tr th:only-of-type {\n",
       "        vertical-align: middle;\n",
       "    }\n",
       "\n",
       "    .dataframe tbody tr th {\n",
       "        vertical-align: top;\n",
       "    }\n",
       "\n",
       "    .dataframe thead th {\n",
       "        text-align: right;\n",
       "    }\n",
       "</style>\n",
       "<table border=\"1\" class=\"dataframe\">\n",
       "  <thead>\n",
       "    <tr style=\"text-align: right;\">\n",
       "      <th></th>\n",
       "      <th>label</th>\n",
       "      <th>pixel1</th>\n",
       "      <th>pixel2</th>\n",
       "      <th>pixel3</th>\n",
       "      <th>pixel4</th>\n",
       "      <th>pixel5</th>\n",
       "      <th>pixel6</th>\n",
       "      <th>pixel7</th>\n",
       "      <th>pixel8</th>\n",
       "      <th>pixel9</th>\n",
       "      <th>...</th>\n",
       "      <th>pixel775</th>\n",
       "      <th>pixel776</th>\n",
       "      <th>pixel777</th>\n",
       "      <th>pixel778</th>\n",
       "      <th>pixel779</th>\n",
       "      <th>pixel780</th>\n",
       "      <th>pixel781</th>\n",
       "      <th>pixel782</th>\n",
       "      <th>pixel783</th>\n",
       "      <th>pixel784</th>\n",
       "    </tr>\n",
       "  </thead>\n",
       "  <tbody>\n",
       "    <tr>\n",
       "      <th>0</th>\n",
       "      <td>0</td>\n",
       "      <td>0</td>\n",
       "      <td>0</td>\n",
       "      <td>0</td>\n",
       "      <td>0</td>\n",
       "      <td>0</td>\n",
       "      <td>0</td>\n",
       "      <td>0</td>\n",
       "      <td>9</td>\n",
       "      <td>8</td>\n",
       "      <td>...</td>\n",
       "      <td>103</td>\n",
       "      <td>87</td>\n",
       "      <td>56</td>\n",
       "      <td>0</td>\n",
       "      <td>0</td>\n",
       "      <td>0</td>\n",
       "      <td>0</td>\n",
       "      <td>0</td>\n",
       "      <td>0</td>\n",
       "      <td>0</td>\n",
       "    </tr>\n",
       "    <tr>\n",
       "      <th>1</th>\n",
       "      <td>1</td>\n",
       "      <td>0</td>\n",
       "      <td>0</td>\n",
       "      <td>0</td>\n",
       "      <td>0</td>\n",
       "      <td>0</td>\n",
       "      <td>0</td>\n",
       "      <td>0</td>\n",
       "      <td>0</td>\n",
       "      <td>0</td>\n",
       "      <td>...</td>\n",
       "      <td>34</td>\n",
       "      <td>0</td>\n",
       "      <td>0</td>\n",
       "      <td>0</td>\n",
       "      <td>0</td>\n",
       "      <td>0</td>\n",
       "      <td>0</td>\n",
       "      <td>0</td>\n",
       "      <td>0</td>\n",
       "      <td>0</td>\n",
       "    </tr>\n",
       "    <tr>\n",
       "      <th>2</th>\n",
       "      <td>2</td>\n",
       "      <td>0</td>\n",
       "      <td>0</td>\n",
       "      <td>0</td>\n",
       "      <td>0</td>\n",
       "      <td>0</td>\n",
       "      <td>0</td>\n",
       "      <td>14</td>\n",
       "      <td>53</td>\n",
       "      <td>99</td>\n",
       "      <td>...</td>\n",
       "      <td>0</td>\n",
       "      <td>0</td>\n",
       "      <td>0</td>\n",
       "      <td>0</td>\n",
       "      <td>63</td>\n",
       "      <td>53</td>\n",
       "      <td>31</td>\n",
       "      <td>0</td>\n",
       "      <td>0</td>\n",
       "      <td>0</td>\n",
       "    </tr>\n",
       "    <tr>\n",
       "      <th>3</th>\n",
       "      <td>2</td>\n",
       "      <td>0</td>\n",
       "      <td>0</td>\n",
       "      <td>0</td>\n",
       "      <td>0</td>\n",
       "      <td>0</td>\n",
       "      <td>0</td>\n",
       "      <td>0</td>\n",
       "      <td>0</td>\n",
       "      <td>0</td>\n",
       "      <td>...</td>\n",
       "      <td>137</td>\n",
       "      <td>126</td>\n",
       "      <td>140</td>\n",
       "      <td>0</td>\n",
       "      <td>133</td>\n",
       "      <td>224</td>\n",
       "      <td>222</td>\n",
       "      <td>56</td>\n",
       "      <td>0</td>\n",
       "      <td>0</td>\n",
       "    </tr>\n",
       "    <tr>\n",
       "      <th>4</th>\n",
       "      <td>3</td>\n",
       "      <td>0</td>\n",
       "      <td>0</td>\n",
       "      <td>0</td>\n",
       "      <td>0</td>\n",
       "      <td>0</td>\n",
       "      <td>0</td>\n",
       "      <td>0</td>\n",
       "      <td>0</td>\n",
       "      <td>0</td>\n",
       "      <td>...</td>\n",
       "      <td>0</td>\n",
       "      <td>0</td>\n",
       "      <td>0</td>\n",
       "      <td>0</td>\n",
       "      <td>0</td>\n",
       "      <td>0</td>\n",
       "      <td>0</td>\n",
       "      <td>0</td>\n",
       "      <td>0</td>\n",
       "      <td>0</td>\n",
       "    </tr>\n",
       "  </tbody>\n",
       "</table>\n",
       "<p>5 rows × 785 columns</p>\n",
       "</div>"
      ],
      "text/plain": [
       "   label  pixel1  pixel2  pixel3  pixel4  pixel5  pixel6  pixel7  pixel8  \\\n",
       "0      0       0       0       0       0       0       0       0       9   \n",
       "1      1       0       0       0       0       0       0       0       0   \n",
       "2      2       0       0       0       0       0       0      14      53   \n",
       "3      2       0       0       0       0       0       0       0       0   \n",
       "4      3       0       0       0       0       0       0       0       0   \n",
       "\n",
       "   pixel9    ...     pixel775  pixel776  pixel777  pixel778  pixel779  \\\n",
       "0       8    ...          103        87        56         0         0   \n",
       "1       0    ...           34         0         0         0         0   \n",
       "2      99    ...            0         0         0         0        63   \n",
       "3       0    ...          137       126       140         0       133   \n",
       "4       0    ...            0         0         0         0         0   \n",
       "\n",
       "   pixel780  pixel781  pixel782  pixel783  pixel784  \n",
       "0         0         0         0         0         0  \n",
       "1         0         0         0         0         0  \n",
       "2        53        31         0         0         0  \n",
       "3       224       222        56         0         0  \n",
       "4         0         0         0         0         0  \n",
       "\n",
       "[5 rows x 785 columns]"
      ]
     },
     "execution_count": 4,
     "metadata": {},
     "output_type": "execute_result"
    }
   ],
   "source": [
    "Xtrain.head()"
   ]
  },
  {
   "cell_type": "code",
   "execution_count": 5,
   "metadata": {},
   "outputs": [],
   "source": [
    "Xtrain = Xtrain.values"
   ]
  },
  {
   "cell_type": "code",
   "execution_count": 6,
   "metadata": {},
   "outputs": [
    {
     "name": "stdout",
     "output_type": "stream",
     "text": [
      "(10000, 785)\n"
     ]
    }
   ],
   "source": [
    "print(Xtrain.shape)"
   ]
  },
  {
   "cell_type": "code",
   "execution_count": 7,
   "metadata": {},
   "outputs": [],
   "source": [
    "Ytrain = Xtrain[:,0]"
   ]
  },
  {
   "cell_type": "code",
   "execution_count": 8,
   "metadata": {},
   "outputs": [],
   "source": [
    "Xtrain = Xtrain[:,1:]"
   ]
  },
  {
   "cell_type": "code",
   "execution_count": 9,
   "metadata": {},
   "outputs": [
    {
     "name": "stdout",
     "output_type": "stream",
     "text": [
      "(10000, 784)\n",
      "(10000,)\n"
     ]
    }
   ],
   "source": [
    "print(Xtrain.shape)\n",
    "print(Ytrain.shape)"
   ]
  },
  {
   "cell_type": "code",
   "execution_count": 10,
   "metadata": {},
   "outputs": [],
   "source": [
    "Xtrain = Xtrain.reshape((10000,28,28))"
   ]
  },
  {
   "cell_type": "code",
   "execution_count": 11,
   "metadata": {},
   "outputs": [
    {
     "data": {
      "image/png": "[encoded data removed]",
      "text/plain": [
       "<Figure size 432x288 with 1 Axes>"
      ]
     },
     "metadata": {
      "needs_background": "light"
     },
     "output_type": "display_data"
    },
    {
     "data": {
      "image/png": "[encoded data removed]",
      "text/plain": [
       "<Figure size 432x288 with 1 Axes>"
      ]
     },
     "metadata": {
      "needs_background": "light"
     },
     "output_type": "display_data"
    },
    {
     "data": {
      "image/png": "[encoded data removed]",
      "text/plain": [
       "<Figure size 432x288 with 1 Axes>"
      ]
     },
     "metadata": {
      "needs_background": "light"
     },
     "output_type": "display_data"
    },
    {
     "data": {
      "image/png": "[encoded data removed]",
      "text/plain": [
       "<Figure size 432x288 with 1 Axes>"
      ]
     },
     "metadata": {
      "needs_background": "light"
     },
     "output_type": "display_data"
    },
    {
     "data": {
      "image/png": "[encoded data removed]",
      "text/plain": [
       "<Figure size 432x288 with 1 Axes>"
      ]
     },
     "metadata": {
      "needs_background": "light"
     },
     "output_type": "display_data"
    }
   ],
   "source": [
    "for i in range(5):\n",
    "    plt.imshow(Xtrain[i],cmap=\"gray\")\n",
    "    plt.axis(\"off\")\n",
    "    plt.show()    "
   ]
  },
  {
   "cell_type": "code",
   "execution_count": 12,
   "metadata": {},
   "outputs": [],
   "source": [
    "Xtrain = Xtrain.reshape((10000,28,28,1))"
   ]
  },
  {
   "cell_type": "code",
   "execution_count": 13,
   "metadata": {},
   "outputs": [],
   "source": [
    "model = Sequential()"
   ]
  },
  {
   "cell_type": "code",
   "execution_count": 14,
   "metadata": {},
   "outputs": [],
   "source": [
    "model.add(Convolution2D(32,(3,3),strides=(1,1),activation='relu',input_shape=(28,28,1)))\n",
    "model.add(MaxPool2D(pool_size=(2,2)))\n",
    "model.add(Convolution2D(64,(3,3),activation='relu'))\n",
    "model.add(Dropout(0.3))\n",
    "model.add(Convolution2D(32,(5,5),activation='relu'))\n",
    "model.add(MaxPool2D((2,2)))\n",
    "model.add(Flatten())\n",
    "model.add(Dense(10,activation='softmax'))"
   ]
  },
  {
   "cell_type": "code",
   "execution_count": 15,
   "metadata": {},
   "outputs": [
    {
     "name": "stdout",
     "output_type": "stream",
     "text": [
      "Model: \"sequential\"\n",
      "_________________________________________________________________\n",
      "Layer (type)                 Output Shape              Param #   \n",
      "=================================================================\n",
      "conv2d (Conv2D)              (None, 26, 26, 32)        320       \n",
      "_________________________________________________________________\n",
      "max_pooling2d (MaxPooling2D) (None, 13, 13, 32)        0         \n",
      "_________________________________________________________________\n",
      "conv2d_1 (Conv2D)            (None, 11, 11, 64)        18496     \n",
      "_________________________________________________________________\n",
      "dropout (Dropout)            (None, 11, 11, 64)        0         \n",
      "_________________________________________________________________\n",
      "conv2d_2 (Conv2D)            (None, 7, 7, 32)          51232     \n",
      "_________________________________________________________________\n",
      "max_pooling2d_1 (MaxPooling2 (None, 3, 3, 32)          0         \n",
      "_________________________________________________________________\n",
      "flatten (Flatten)            (None, 288)               0         \n",
      "_________________________________________________________________\n",
      "dense (Dense)                (None, 10)                2890      \n",
      "=================================================================\n",
      "Total params: 72,938\n",
      "Trainable params: 72,938\n",
      "Non-trainable params: 0\n",
      "_________________________________________________________________\n"
     ]
    }
   ],
   "source": [
    "model.summary()"
   ]
  },
  {
   "cell_type": "code",
   "execution_count": 16,
   "metadata": {},
   "outputs": [],
   "source": [
    "model.compile(optimizer=\"adam\",loss=\"categorical_crossentropy\",metrics=[\"accuracy\"])"
   ]
  },
  {
   "cell_type": "code",
   "execution_count": 17,
   "metadata": {},
   "outputs": [
    {
     "name": "stdout",
     "output_type": "stream",
     "text": [
      "(10000,)\n",
      "(10000, 10)\n"
     ]
    }
   ],
   "source": [
    "print(Ytrain.shape)\n",
    "Ytrain = to_categorical(Ytrain)\n",
    "print(Ytrain.shape)"
   ]
  },
  {
   "cell_type": "code",
   "execution_count": 18,
   "metadata": {},
   "outputs": [],
   "source": [
    "modelCheckPoint = ModelCheckpoint('model.h5',monitor=\"val_accuracy\",verbose=1,save_best_only=True)\n",
    "earlyStopping = EarlyStopping(monitor='val_accuracy',min_delta=0.05,patience=10,verbose=1,restore_best_weights=True)\n",
    "callbacks = [modelCheckPoint,earlyStopping]"
   ]
  },
  {
   "cell_type": "code",
   "execution_count": 19,
   "metadata": {},
   "outputs": [
    {
     "name": "stdout",
     "output_type": "stream",
     "text": [
      "Train on 8000 samples, validate on 2000 samples\n",
      "Epoch 1/25\n",
      "7680/8000 [===========================>..] - ETA: 0s - loss: 10.8495 - accuracy: 0.3053\n",
      "Epoch 00001: val_accuracy improved from -inf to 0.55550, saving model to model.h5\n",
      "8000/8000 [==============================] - 4s 442us/sample - loss: 10.4931 - accuracy: 0.3101 - val_loss: 1.2650 - val_accuracy: 0.5555\n",
      "Epoch 2/25\n",
      "7680/8000 [===========================>..] - ETA: 0s - loss: 1.1597 - accuracy: 0.6065\n",
      "Epoch 00002: val_accuracy improved from 0.55550 to 0.70600, saving model to model.h5\n",
      "8000/8000 [==============================] - 3s 383us/sample - loss: 1.1513 - accuracy: 0.6086 - val_loss: 0.8340 - val_accuracy: 0.7060\n",
      "Epoch 3/25\n",
      "7680/8000 [===========================>..] - ETA: 0s - loss: 0.8314 - accuracy: 0.6982\n",
      "Epoch 00003: val_accuracy improved from 0.70600 to 0.75450, saving model to model.h5\n",
      "8000/8000 [==============================] - 3s 383us/sample - loss: 0.8297 - accuracy: 0.6996 - val_loss: 0.6959 - val_accuracy: 0.7545\n",
      "Epoch 4/25\n",
      "7680/8000 [===========================>..] - ETA: 0s - loss: 0.7079 - accuracy: 0.7434\n",
      "Epoch 00004: val_accuracy improved from 0.75450 to 0.77200, saving model to model.h5\n",
      "8000/8000 [==============================] - 3s 394us/sample - loss: 0.7110 - accuracy: 0.7424 - val_loss: 0.6254 - val_accuracy: 0.7720\n",
      "Epoch 5/25\n",
      "7680/8000 [===========================>..] - ETA: 0s - loss: 0.6450 - accuracy: 0.7632\n",
      "Epoch 00005: val_accuracy improved from 0.77200 to 0.79600, saving model to model.h5\n",
      "8000/8000 [==============================] - 3s 415us/sample - loss: 0.6427 - accuracy: 0.7639 - val_loss: 0.5816 - val_accuracy: 0.7960\n",
      "Epoch 6/25\n",
      "7680/8000 [===========================>..] - ETA: 0s - loss: 0.5946 - accuracy: 0.7824\n",
      "Epoch 00006: val_accuracy improved from 0.79600 to 0.80300, saving model to model.h5\n",
      "8000/8000 [==============================] - 4s 514us/sample - loss: 0.5908 - accuracy: 0.7837 - val_loss: 0.5477 - val_accuracy: 0.8030\n",
      "Epoch 7/25\n",
      "7680/8000 [===========================>..] - ETA: 0s - loss: 0.5681 - accuracy: 0.7902\n",
      "Epoch 00007: val_accuracy improved from 0.80300 to 0.81350, saving model to model.h5\n",
      "8000/8000 [==============================] - 4s 502us/sample - loss: 0.5698 - accuracy: 0.7901 - val_loss: 0.5305 - val_accuracy: 0.8135\n",
      "Epoch 8/25\n",
      "7680/8000 [===========================>..] - ETA: 0s - loss: 0.5124 - accuracy: 0.8083\n",
      "Epoch 00008: val_accuracy improved from 0.81350 to 0.81900, saving model to model.h5\n",
      "8000/8000 [==============================] - 4s 464us/sample - loss: 0.5126 - accuracy: 0.8079 - val_loss: 0.5003 - val_accuracy: 0.8190\n",
      "Epoch 9/25\n",
      "7680/8000 [===========================>..] - ETA: 0s - loss: 0.4825 - accuracy: 0.8240\n",
      "Epoch 00009: val_accuracy improved from 0.81900 to 0.82300, saving model to model.h5\n",
      "8000/8000 [==============================] - 4s 468us/sample - loss: 0.4814 - accuracy: 0.8239 - val_loss: 0.4978 - val_accuracy: 0.8230\n",
      "Epoch 10/25\n",
      "7680/8000 [===========================>..] - ETA: 0s - loss: 0.4653 - accuracy: 0.8292\n",
      "Epoch 00010: val_accuracy improved from 0.82300 to 0.83000, saving model to model.h5\n",
      "8000/8000 [==============================] - 4s 492us/sample - loss: 0.4663 - accuracy: 0.8291 - val_loss: 0.4680 - val_accuracy: 0.8300\n",
      "Epoch 11/25\n",
      "7680/8000 [===========================>..] - ETA: 0s - loss: 0.4356 - accuracy: 0.8391\n",
      "Epoch 00011: val_accuracy improved from 0.83000 to 0.83100, saving model to model.h5\n",
      "8000/8000 [==============================] - 4s 458us/sample - loss: 0.4352 - accuracy: 0.8388 - val_loss: 0.4738 - val_accuracy: 0.8310\n",
      "Epoch 12/25\n",
      "7680/8000 [===========================>..] - ETA: 0s - loss: 0.4258 - accuracy: 0.8440\n",
      "Epoch 00012: val_accuracy improved from 0.83100 to 0.83350, saving model to model.h5\n",
      "8000/8000 [==============================] - 4s 484us/sample - loss: 0.4276 - accuracy: 0.8438 - val_loss: 0.4684 - val_accuracy: 0.8335\n",
      "Epoch 13/25\n",
      "7680/8000 [===========================>..] - ETA: 0s - loss: 0.4005 - accuracy: 0.8503\n",
      "Epoch 00013: val_accuracy did not improve from 0.83350\n",
      "8000/8000 [==============================] - 4s 473us/sample - loss: 0.3993 - accuracy: 0.8515 - val_loss: 0.4619 - val_accuracy: 0.8325\n",
      "Epoch 14/25\n",
      "7680/8000 [===========================>..] - ETA: 0s - loss: 0.3884 - accuracy: 0.8542\n",
      "Epoch 00014: val_accuracy improved from 0.83350 to 0.83650, saving model to model.h5\n",
      "8000/8000 [==============================] - 4s 461us/sample - loss: 0.3891 - accuracy: 0.8545 - val_loss: 0.4466 - val_accuracy: 0.8365\n",
      "Epoch 15/25\n",
      "7680/8000 [===========================>..] - ETA: 0s - loss: 0.3750 - accuracy: 0.8586\n",
      "Epoch 00015: val_accuracy improved from 0.83650 to 0.84500, saving model to model.h5\n",
      "8000/8000 [==============================] - 4s 483us/sample - loss: 0.3792 - accuracy: 0.8575 - val_loss: 0.4377 - val_accuracy: 0.8450\n",
      "Epoch 16/25\n",
      "7680/8000 [===========================>..] - ETA: 0s - loss: 0.3614 - accuracy: 0.8668\n",
      "Epoch 00016: val_accuracy improved from 0.84500 to 0.84850, saving model to model.h5\n",
      "8000/8000 [==============================] - 4s 486us/sample - loss: 0.3598 - accuracy: 0.8673 - val_loss: 0.4467 - val_accuracy: 0.8485\n",
      "Epoch 17/25\n",
      "7680/8000 [===========================>..] - ETA: 0s - loss: 0.3400 - accuracy: 0.8759\n",
      "Epoch 00017: val_accuracy improved from 0.84850 to 0.85500, saving model to model.h5\n",
      "8000/8000 [==============================] - 4s 465us/sample - loss: 0.3384 - accuracy: 0.8758 - val_loss: 0.4289 - val_accuracy: 0.8550\n",
      "Epoch 18/25\n",
      "7680/8000 [===========================>..] - ETA: 0s - loss: 0.3251 - accuracy: 0.8819\n",
      "Epoch 00018: val_accuracy did not improve from 0.85500\n",
      "8000/8000 [==============================] - 4s 513us/sample - loss: 0.3273 - accuracy: 0.8806 - val_loss: 0.4342 - val_accuracy: 0.8465\n",
      "Epoch 19/25\n",
      "7680/8000 [===========================>..] - ETA: 0s - loss: 0.3245 - accuracy: 0.8809\n",
      "Epoch 00019: val_accuracy did not improve from 0.85500\n",
      "Restoring model weights from the end of the best epoch.\n",
      "8000/8000 [==============================] - 4s 465us/sample - loss: 0.3244 - accuracy: 0.8821 - val_loss: 0.4318 - val_accuracy: 0.8505\n",
      "Epoch 00019: early stopping\n"
     ]
    }
   ],
   "source": [
    "hist = model.fit(Xtrain,Ytrain,batch_size=512,epochs=25,validation_split=0.2,callbacks=callbacks)"
   ]
  },
  {
   "cell_type": "code",
   "execution_count": 22,
   "metadata": {},
   "outputs": [
    {
     "data": {
      "image/png": "[encoded data removed]",
      "text/plain": [
       "<Figure size 432x288 with 1 Axes>"
      ]
     },
     "metadata": {
      "needs_background": "light"
     },
     "output_type": "display_data"
    }
   ],
   "source": [
    "plt.plot(hist.history['loss'],'r')\n",
    "plt.plot(hist.history['val_loss'],'g')\n",
    "plt.show()"
   ]
  },
  {
   "cell_type": "code",
   "execution_count": 23,
   "metadata": {},
   "outputs": [
    {
     "data": {
      "image/png": "[encoded data removed]",
      "text/plain": [
       "<Figure size 432x288 with 1 Axes>"
      ]
     },
     "metadata": {
      "needs_background": "light"
     },
     "output_type": "display_data"
    }
   ],
   "source": [
    "plt.plot(hist.history['accuracy'],'r')\n",
    "plt.plot(hist.history['val_accuracy'],'g')\n",
    "plt.show()"
   ]
  },
  {
   "cell_type": "code",
   "execution_count": null,
   "metadata": {},
   "outputs": [],
   "source": []
  }
 ],
 "metadata": {
  "kernelspec": {
   "display_name": "Python 3",
   "language": "python",
   "name": "python3"
  },
  "language_info": {
   "codemirror_mode": {
    "name": "ipython",
    "version": 3
   },
   "file_extension": ".py",
   "mimetype": "text/x-python",
   "name": "python",
   "nbconvert_exporter": "python",
   "pygments_lexer": "ipython3",
   "version": "3.7.1"
  }
 },
 "nbformat": 4,
 "nbformat_minor": 2
}
