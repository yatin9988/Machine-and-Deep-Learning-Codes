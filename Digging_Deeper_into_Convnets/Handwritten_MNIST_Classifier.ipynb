{
  "nbformat": 4,
  "nbformat_minor": 0,
  "metadata": {
    "colab": {
      "name": "Handwritten MNIST Classifier.ipynb",
      "provenance": []
    },
    "kernelspec": {
      "name": "python3",
      "display_name": "Python 3"
    },
    "accelerator": "GPU"
  },
  "cells": [
    {
      "cell_type": "code",
      "metadata": {
        "id": "mo7aC-yuguoi",
        "colab_type": "code",
        "colab": {}
      },
      "source": [
        "import numpy as np\n",
        "import matplotlib.pyplot as plt"
      ],
      "execution_count": 0,
      "outputs": []
    },
    {
      "cell_type": "code",
      "metadata": {
        "id": "lHSq4ZC4iit9",
        "colab_type": "code",
        "colab": {}
      },
      "source": [
        "from tensorflow.keras.utils import to_categorical\n",
        "from tensorflow.keras.models import Sequential\n",
        "from tensorflow.keras.layers import Dense,Convolution2D,MaxPooling2D,Flatten\n",
        "from tensorflow.keras.datasets import mnist\n",
        "from tensorflow.keras.callbacks import ModelCheckpoint,EarlyStopping"
      ],
      "execution_count": 0,
      "outputs": []
    },
    {
      "cell_type": "code",
      "metadata": {
        "id": "jQ4yv4Nwjfb7",
        "colab_type": "code",
        "colab": {}
      },
      "source": [
        "(Xtrain,Ytrain),(Xtest,Ytest) = mnist.load_data()"
      ],
      "execution_count": 0,
      "outputs": []
    },
    {
      "cell_type": "code",
      "metadata": {
        "id": "U1D2NQxTjoPJ",
        "colab_type": "code",
        "colab": {
          "base_uri": "https://localhost:8080/",
          "height": 51
        },
        "outputId": "f298115c-5fac-44d6-e148-b673d8ea9c4d"
      },
      "source": [
        "print(Xtrain.shape,Ytrain.shape)\n",
        "print(Xtest.shape,Ytest.shape)"
      ],
      "execution_count": 47,
      "outputs": [
        {
          "output_type": "stream",
          "text": [
            "(60000, 28, 28) (60000,)\n",
            "(10000, 28, 28) (10000,)\n"
          ],
          "name": "stdout"
        }
      ]
    },
    {
      "cell_type": "code",
      "metadata": {
        "id": "Ugwg3MRQj4at",
        "colab_type": "code",
        "colab": {}
      },
      "source": [
        "def processing(X,Y):\n",
        "  Y = to_categorical(Y)\n",
        "  X = X.reshape((-1,28,28,1))\n",
        "  X = X/255\n",
        "\n",
        "  return (X,Y)"
      ],
      "execution_count": 0,
      "outputs": []
    },
    {
      "cell_type": "code",
      "metadata": {
        "id": "67ibFhlrkGFd",
        "colab_type": "code",
        "colab": {}
      },
      "source": [
        "Xtrain,Ytrain = processing(Xtrain,Ytrain)\n",
        "Xtest,Ytest = processing(Xtest,Ytest)"
      ],
      "execution_count": 0,
      "outputs": []
    },
    {
      "cell_type": "code",
      "metadata": {
        "id": "k0A5DeiVkP4a",
        "colab_type": "code",
        "colab": {
          "base_uri": "https://localhost:8080/",
          "height": 51
        },
        "outputId": "b063a8b9-3244-406c-9a1b-c81bc59416d4"
      },
      "source": [
        "print(Xtrain.shape,Ytrain.shape)\n",
        "print(Xtest.shape,Ytest.shape)"
      ],
      "execution_count": 50,
      "outputs": [
        {
          "output_type": "stream",
          "text": [
            "(60000, 28, 28, 1) (60000, 10)\n",
            "(10000, 28, 28, 1) (10000, 10)\n"
          ],
          "name": "stdout"
        }
      ]
    },
    {
      "cell_type": "code",
      "metadata": {
        "id": "Xx88IyUWkSko",
        "colab_type": "code",
        "colab": {
          "base_uri": "https://localhost:8080/",
          "height": 1000
        },
        "outputId": "ae792f32-0621-4cf0-9d11-06bce5025c7d"
      },
      "source": [
        "for i in range(5):\n",
        "  plt.imshow(Xtrain[i].reshape(28,28))\n",
        "  plt.axis(\"off\")\n",
        "  plt.show()"
      ],
      "execution_count": 51,
      "outputs": [
        {
          "output_type": "display_data",
          "data": {
            "image/png": "[encoded data removed]",
            "text/plain": [
              "<Figure size 432x288 with 1 Axes>"
            ]
          },
          "metadata": {
            "tags": [],
            "needs_background": "light"
          }
        },
        {
          "output_type": "display_data",
          "data": {
            "image/png": "[encoded data removed]",
            "text/plain": [
              "<Figure size 432x288 with 1 Axes>"
            ]
          },
          "metadata": {
            "tags": [],
            "needs_background": "light"
          }
        },
        {
          "output_type": "display_data",
          "data": {
            "image/png": "[encoded data removed]",
            "text/plain": [
              "<Figure size 432x288 with 1 Axes>"
            ]
          },
          "metadata": {
            "tags": [],
            "needs_background": "light"
          }
        },
        {
          "output_type": "display_data",
          "data": {
            "image/png": "[encoded data removed]",
            "text/plain": [
              "<Figure size 432x288 with 1 Axes>"
            ]
          },
          "metadata": {
            "tags": [],
            "needs_background": "light"
          }
        },
        {
          "output_type": "display_data",
          "data": {
            "image/png": "[encoded data removed]",
            "text/plain": [
              "<Figure size 432x288 with 1 Axes>"
            ]
          },
          "metadata": {
            "tags": [],
            "needs_background": "light"
          }
        }
      ]
    },
    {
      "cell_type": "code",
      "metadata": {
        "id": "BXYKZzDIk5zf",
        "colab_type": "code",
        "colab": {}
      },
      "source": [
        "model = Sequential()"
      ],
      "execution_count": 0,
      "outputs": []
    },
    {
      "cell_type": "code",
      "metadata": {
        "id": "8pGh4xHllE3w",
        "colab_type": "code",
        "colab": {}
      },
      "source": [
        "model.add(Convolution2D(32,(3,3),activation='relu',input_shape=(28,28,1)))\n",
        "model.add(MaxPooling2D((2,2)))\n",
        "model.add(Convolution2D(64,(3,3),activation='relu'))\n",
        "model.add(MaxPooling2D((2,2)))\n",
        "model.add(Convolution2D(64,(3,3),activation='relu'))\n",
        "model.add(MaxPooling2D((2,2)))\n",
        "model.add(Flatten())\n",
        "model.add(Dense(128,activation='relu'))\n",
        "model.add(Dense(64,activation='relu'))\n",
        "model.add(Dense(10,activation='softmax'))"
      ],
      "execution_count": 0,
      "outputs": []
    },
    {
      "cell_type": "code",
      "metadata": {
        "id": "2Hf2GBsclzE7",
        "colab_type": "code",
        "colab": {
          "base_uri": "https://localhost:8080/",
          "height": 493
        },
        "outputId": "9583f38e-4a0a-446b-e505-62ec61e09e98"
      },
      "source": [
        "model.summary()"
      ],
      "execution_count": 54,
      "outputs": [
        {
          "output_type": "stream",
          "text": [
            "Model: \"sequential_3\"\n",
            "_________________________________________________________________\n",
            "Layer (type)                 Output Shape              Param #   \n",
            "=================================================================\n",
            "conv2d_9 (Conv2D)            (None, 26, 26, 32)        320       \n",
            "_________________________________________________________________\n",
            "max_pooling2d_9 (MaxPooling2 (None, 13, 13, 32)        0         \n",
            "_________________________________________________________________\n",
            "conv2d_10 (Conv2D)           (None, 11, 11, 64)        18496     \n",
            "_________________________________________________________________\n",
            "max_pooling2d_10 (MaxPooling (None, 5, 5, 64)          0         \n",
            "_________________________________________________________________\n",
            "conv2d_11 (Conv2D)           (None, 3, 3, 64)          36928     \n",
            "_________________________________________________________________\n",
            "max_pooling2d_11 (MaxPooling (None, 1, 1, 64)          0         \n",
            "_________________________________________________________________\n",
            "flatten_3 (Flatten)          (None, 64)                0         \n",
            "_________________________________________________________________\n",
            "dense_9 (Dense)              (None, 128)               8320      \n",
            "_________________________________________________________________\n",
            "dense_10 (Dense)             (None, 64)                8256      \n",
            "_________________________________________________________________\n",
            "dense_11 (Dense)             (None, 10)                650       \n",
            "=================================================================\n",
            "Total params: 72,970\n",
            "Trainable params: 72,970\n",
            "Non-trainable params: 0\n",
            "_________________________________________________________________\n"
          ],
          "name": "stdout"
        }
      ]
    },
    {
      "cell_type": "code",
      "metadata": {
        "id": "dztjlQdGmQZY",
        "colab_type": "code",
        "colab": {}
      },
      "source": [
        "model.compile(optimizer='adam',loss='categorical_crossentropy',metrics=['accuracy'])"
      ],
      "execution_count": 0,
      "outputs": []
    },
    {
      "cell_type": "code",
      "metadata": {
        "id": "JBs44oi3nCLr",
        "colab_type": "code",
        "colab": {}
      },
      "source": [
        "modelCheckPoint = ModelCheckpoint('model.h5',monitor='val_accuracy',verbose=1,save_best_only=True)\n",
        "earlyStopping = EarlyStopping(monitor='val_accuracy',min_delta=0.05,patience=10,verbose=1,restore_best_weights=True)\n",
        "callbacks=(modelCheckPoint,earlyStopping)"
      ],
      "execution_count": 0,
      "outputs": []
    },
    {
      "cell_type": "code",
      "metadata": {
        "id": "Nf5j0cMYm1H2",
        "colab_type": "code",
        "colab": {
          "base_uri": "https://localhost:8080/",
          "height": 697
        },
        "outputId": "1f5974b7-fa23-47e5-892d-4d2a30273ab5"
      },
      "source": [
        "hist = model.fit(Xtrain,Ytrain,batch_size=256,epochs=10,validation_split=0.2,callbacks=callbacks)"
      ],
      "execution_count": 57,
      "outputs": [
        {
          "output_type": "stream",
          "text": [
            "Epoch 1/10\n",
            "186/188 [============================>.] - ETA: 0s - loss: 0.5934 - accuracy: 0.8193\n",
            "Epoch 00001: val_accuracy improved from -inf to 0.93808, saving model to model.h5\n",
            "188/188 [==============================] - 1s 7ms/step - loss: 0.5893 - accuracy: 0.8201 - val_loss: 0.1947 - val_accuracy: 0.9381\n",
            "Epoch 2/10\n",
            "187/188 [============================>.] - ETA: 0s - loss: 0.1521 - accuracy: 0.9539\n",
            "Epoch 00002: val_accuracy improved from 0.93808 to 0.96542, saving model to model.h5\n",
            "188/188 [==============================] - 1s 6ms/step - loss: 0.1516 - accuracy: 0.9540 - val_loss: 0.1148 - val_accuracy: 0.9654\n",
            "Epoch 3/10\n",
            "188/188 [==============================] - ETA: 0s - loss: 0.1058 - accuracy: 0.9683\n",
            "Epoch 00003: val_accuracy improved from 0.96542 to 0.97175, saving model to model.h5\n",
            "188/188 [==============================] - 1s 6ms/step - loss: 0.1058 - accuracy: 0.9683 - val_loss: 0.0970 - val_accuracy: 0.9718\n",
            "Epoch 4/10\n",
            "188/188 [==============================] - ETA: 0s - loss: 0.0852 - accuracy: 0.9739\n",
            "Epoch 00004: val_accuracy did not improve from 0.97175\n",
            "188/188 [==============================] - 1s 6ms/step - loss: 0.0852 - accuracy: 0.9739 - val_loss: 0.0920 - val_accuracy: 0.9715\n",
            "Epoch 5/10\n",
            "179/188 [===========================>..] - ETA: 0s - loss: 0.0680 - accuracy: 0.9792\n",
            "Epoch 00005: val_accuracy improved from 0.97175 to 0.97700, saving model to model.h5\n",
            "188/188 [==============================] - 1s 6ms/step - loss: 0.0676 - accuracy: 0.9792 - val_loss: 0.0767 - val_accuracy: 0.9770\n",
            "Epoch 6/10\n",
            "179/188 [===========================>..] - ETA: 0s - loss: 0.0570 - accuracy: 0.9818\n",
            "Epoch 00006: val_accuracy improved from 0.97700 to 0.98167, saving model to model.h5\n",
            "188/188 [==============================] - 1s 6ms/step - loss: 0.0573 - accuracy: 0.9817 - val_loss: 0.0624 - val_accuracy: 0.9817\n",
            "Epoch 7/10\n",
            "181/188 [===========================>..] - ETA: 0s - loss: 0.0501 - accuracy: 0.9848\n",
            "Epoch 00007: val_accuracy improved from 0.98167 to 0.98358, saving model to model.h5\n",
            "188/188 [==============================] - 1s 6ms/step - loss: 0.0505 - accuracy: 0.9845 - val_loss: 0.0643 - val_accuracy: 0.9836\n",
            "Epoch 8/10\n",
            "186/188 [============================>.] - ETA: 0s - loss: 0.0427 - accuracy: 0.9863\n",
            "Epoch 00008: val_accuracy improved from 0.98358 to 0.98542, saving model to model.h5\n",
            "188/188 [==============================] - 1s 7ms/step - loss: 0.0425 - accuracy: 0.9863 - val_loss: 0.0526 - val_accuracy: 0.9854\n",
            "Epoch 9/10\n",
            "180/188 [===========================>..] - ETA: 0s - loss: 0.0395 - accuracy: 0.9877\n",
            "Epoch 00009: val_accuracy did not improve from 0.98542\n",
            "188/188 [==============================] - 1s 6ms/step - loss: 0.0396 - accuracy: 0.9876 - val_loss: 0.0626 - val_accuracy: 0.9818\n",
            "Epoch 10/10\n",
            "180/188 [===========================>..] - ETA: 0s - loss: 0.0348 - accuracy: 0.9893\n",
            "Epoch 00010: val_accuracy did not improve from 0.98542\n",
            "188/188 [==============================] - 1s 6ms/step - loss: 0.0350 - accuracy: 0.9891 - val_loss: 0.0639 - val_accuracy: 0.9823\n"
          ],
          "name": "stdout"
        }
      ]
    },
    {
      "cell_type": "code",
      "metadata": {
        "id": "HxUGXxzzn4Vy",
        "colab_type": "code",
        "colab": {
          "base_uri": "https://localhost:8080/",
          "height": 264
        },
        "outputId": "f4ea2879-6809-4b84-ea93-dce4a74358bc"
      },
      "source": [
        "plt.plot(hist.history['loss'],'g',label='loss')\n",
        "plt.plot(hist.history['val_loss'],'r',label='validation loss')\n",
        "plt.title('loss')\n",
        "plt.axis(\"off\")\n",
        "plt.legend()\n",
        "plt.style.use('dark_background')\n",
        "plt.show()"
      ],
      "execution_count": 59,
      "outputs": [
        {
          "output_type": "display_data",
          "data": {
            "image/png": "[encoded data removed]",
            "text/plain": [
              "<Figure size 432x288 with 1 Axes>"
            ]
          },
          "metadata": {
            "tags": []
          }
        }
      ]
    },
    {
      "cell_type": "code",
      "metadata": {
        "id": "A95F0riWpBbL",
        "colab_type": "code",
        "colab": {
          "base_uri": "https://localhost:8080/",
          "height": 264
        },
        "outputId": "ed1068b1-813c-4b77-fe2c-1d4c20d781b6"
      },
      "source": [
        "plt.plot(hist.history['accuracy'],'g',label='accuracy')\n",
        "plt.plot(hist.history['val_accuracy'],'r',label='validation accuracy')\n",
        "plt.title('accuracy')\n",
        "plt.axis(\"off\")\n",
        "plt.legend()\n",
        "plt.style.use('dark_background')\n",
        "plt.show()"
      ],
      "execution_count": 60,
      "outputs": [
        {
          "output_type": "display_data",
          "data": {
            "image/png": "[encoded data removed]",
            "text/plain": [
              "<Figure size 432x288 with 1 Axes>"
            ]
          },
          "metadata": {
            "tags": []
          }
        }
      ]
    },
    {
      "cell_type": "code",
      "metadata": {
        "id": "Q8pJd9wzpPFQ",
        "colab_type": "code",
        "colab": {
          "base_uri": "https://localhost:8080/",
          "height": 34
        },
        "outputId": "1cfdcd32-667b-4864-8602-e978929d82f7"
      },
      "source": [
        "loss,accuracy = model.evaluate(Xtest,Ytest)"
      ],
      "execution_count": 61,
      "outputs": [
        {
          "output_type": "stream",
          "text": [
            "313/313 [==============================] - 1s 2ms/step - loss: 0.0668 - accuracy: 0.9790\n"
          ],
          "name": "stdout"
        }
      ]
    },
    {
      "cell_type": "code",
      "metadata": {
        "id": "DM9Sjg5Gpb06",
        "colab_type": "code",
        "colab": {
          "base_uri": "https://localhost:8080/",
          "height": 34
        },
        "outputId": "00c78039-542f-4ce4-9593-95bcf55b7db1"
      },
      "source": [
        "print(accuracy)"
      ],
      "execution_count": 62,
      "outputs": [
        {
          "output_type": "stream",
          "text": [
            "0.9789999723434448\n"
          ],
          "name": "stdout"
        }
      ]
    },
    {
      "cell_type": "code",
      "metadata": {
        "id": "SDp5vTk8pft-",
        "colab_type": "code",
        "colab": {}
      },
      "source": [
        ""
      ],
      "execution_count": 0,
      "outputs": []
    }
  ]
}