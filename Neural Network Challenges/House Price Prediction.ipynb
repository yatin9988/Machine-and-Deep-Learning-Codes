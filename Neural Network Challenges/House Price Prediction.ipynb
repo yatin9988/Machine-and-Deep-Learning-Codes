{
 "cells": [
  {
   "cell_type": "code",
   "execution_count": 830,
   "metadata": {},
   "outputs": [],
   "source": [
    "import numpy as np\n",
    "import matplotlib.pyplot as plt\n",
    "import pandas as pd"
   ]
  },
  {
   "cell_type": "code",
   "execution_count": 831,
   "metadata": {},
   "outputs": [],
   "source": [
    "train = pd.read_csv('Train_Data.csv')\n",
    "test = pd.read_csv('Test_Data.csv')"
   ]
  },
  {
   "cell_type": "code",
   "execution_count": 832,
   "metadata": {},
   "outputs": [
    {
     "name": "stdout",
     "output_type": "stream",
     "text": [
      "(1100, 81)\n"
     ]
    }
   ],
   "source": [
    "print(train.shape)"
   ]
  },
  {
   "cell_type": "code",
   "execution_count": 833,
   "metadata": {},
   "outputs": [
    {
     "name": "stdout",
     "output_type": "stream",
     "text": [
      "(360, 80)\n"
     ]
    }
   ],
   "source": [
    "print(test.shape)"
   ]
  },
  {
   "cell_type": "code",
   "execution_count": 834,
   "metadata": {},
   "outputs": [],
   "source": [
    "Ytrain = train['SalePrice']"
   ]
  },
  {
   "cell_type": "code",
   "execution_count": 835,
   "metadata": {},
   "outputs": [],
   "source": [
    "train.drop(columns=['SalePrice'],inplace=True)"
   ]
  },
  {
   "cell_type": "code",
   "execution_count": 836,
   "metadata": {},
   "outputs": [
    {
     "name": "stdout",
     "output_type": "stream",
     "text": [
      "(1100, 80)\n",
      "(360, 80)\n"
     ]
    }
   ],
   "source": [
    "print(train.shape)\n",
    "print(test.shape)"
   ]
  },
  {
   "cell_type": "code",
   "execution_count": 837,
   "metadata": {},
   "outputs": [
    {
     "data": {
      "text/html": [
       "<div>\n",
       "<style scoped>\n",
       "    .dataframe tbody tr th:only-of-type {\n",
       "        vertical-align: middle;\n",
       "    }\n",
       "\n",
       "    .dataframe tbody tr th {\n",
       "        vertical-align: top;\n",
       "    }\n",
       "\n",
       "    .dataframe thead th {\n",
       "        text-align: right;\n",
       "    }\n",
       "</style>\n",
       "<table border=\"1\" class=\"dataframe\">\n",
       "  <thead>\n",
       "    <tr style=\"text-align: right;\">\n",
       "      <th></th>\n",
       "      <th>Id</th>\n",
       "      <th>MSSubClass</th>\n",
       "      <th>MSZoning</th>\n",
       "      <th>LotFrontage</th>\n",
       "      <th>LotArea</th>\n",
       "      <th>Street</th>\n",
       "      <th>Alley</th>\n",
       "      <th>LotShape</th>\n",
       "      <th>LandContour</th>\n",
       "      <th>Utilities</th>\n",
       "      <th>...</th>\n",
       "      <th>ScreenPorch</th>\n",
       "      <th>PoolArea</th>\n",
       "      <th>PoolQC</th>\n",
       "      <th>Fence</th>\n",
       "      <th>MiscFeature</th>\n",
       "      <th>MiscVal</th>\n",
       "      <th>MoSold</th>\n",
       "      <th>YrSold</th>\n",
       "      <th>SaleType</th>\n",
       "      <th>SaleCondition</th>\n",
       "    </tr>\n",
       "  </thead>\n",
       "  <tbody>\n",
       "    <tr>\n",
       "      <th>0</th>\n",
       "      <td>1</td>\n",
       "      <td>60</td>\n",
       "      <td>RL</td>\n",
       "      <td>65.0</td>\n",
       "      <td>8450</td>\n",
       "      <td>Pave</td>\n",
       "      <td>NaN</td>\n",
       "      <td>Reg</td>\n",
       "      <td>Lvl</td>\n",
       "      <td>AllPub</td>\n",
       "      <td>...</td>\n",
       "      <td>0</td>\n",
       "      <td>0</td>\n",
       "      <td>NaN</td>\n",
       "      <td>NaN</td>\n",
       "      <td>NaN</td>\n",
       "      <td>0</td>\n",
       "      <td>2</td>\n",
       "      <td>2008</td>\n",
       "      <td>WD</td>\n",
       "      <td>Normal</td>\n",
       "    </tr>\n",
       "    <tr>\n",
       "      <th>1</th>\n",
       "      <td>2</td>\n",
       "      <td>20</td>\n",
       "      <td>RL</td>\n",
       "      <td>80.0</td>\n",
       "      <td>9600</td>\n",
       "      <td>Pave</td>\n",
       "      <td>NaN</td>\n",
       "      <td>Reg</td>\n",
       "      <td>Lvl</td>\n",
       "      <td>AllPub</td>\n",
       "      <td>...</td>\n",
       "      <td>0</td>\n",
       "      <td>0</td>\n",
       "      <td>NaN</td>\n",
       "      <td>NaN</td>\n",
       "      <td>NaN</td>\n",
       "      <td>0</td>\n",
       "      <td>5</td>\n",
       "      <td>2007</td>\n",
       "      <td>WD</td>\n",
       "      <td>Normal</td>\n",
       "    </tr>\n",
       "    <tr>\n",
       "      <th>2</th>\n",
       "      <td>3</td>\n",
       "      <td>60</td>\n",
       "      <td>RL</td>\n",
       "      <td>68.0</td>\n",
       "      <td>11250</td>\n",
       "      <td>Pave</td>\n",
       "      <td>NaN</td>\n",
       "      <td>IR1</td>\n",
       "      <td>Lvl</td>\n",
       "      <td>AllPub</td>\n",
       "      <td>...</td>\n",
       "      <td>0</td>\n",
       "      <td>0</td>\n",
       "      <td>NaN</td>\n",
       "      <td>NaN</td>\n",
       "      <td>NaN</td>\n",
       "      <td>0</td>\n",
       "      <td>9</td>\n",
       "      <td>2008</td>\n",
       "      <td>WD</td>\n",
       "      <td>Normal</td>\n",
       "    </tr>\n",
       "    <tr>\n",
       "      <th>3</th>\n",
       "      <td>4</td>\n",
       "      <td>70</td>\n",
       "      <td>RL</td>\n",
       "      <td>60.0</td>\n",
       "      <td>9550</td>\n",
       "      <td>Pave</td>\n",
       "      <td>NaN</td>\n",
       "      <td>IR1</td>\n",
       "      <td>Lvl</td>\n",
       "      <td>AllPub</td>\n",
       "      <td>...</td>\n",
       "      <td>0</td>\n",
       "      <td>0</td>\n",
       "      <td>NaN</td>\n",
       "      <td>NaN</td>\n",
       "      <td>NaN</td>\n",
       "      <td>0</td>\n",
       "      <td>2</td>\n",
       "      <td>2006</td>\n",
       "      <td>WD</td>\n",
       "      <td>Abnorml</td>\n",
       "    </tr>\n",
       "    <tr>\n",
       "      <th>4</th>\n",
       "      <td>5</td>\n",
       "      <td>60</td>\n",
       "      <td>RL</td>\n",
       "      <td>84.0</td>\n",
       "      <td>14260</td>\n",
       "      <td>Pave</td>\n",
       "      <td>NaN</td>\n",
       "      <td>IR1</td>\n",
       "      <td>Lvl</td>\n",
       "      <td>AllPub</td>\n",
       "      <td>...</td>\n",
       "      <td>0</td>\n",
       "      <td>0</td>\n",
       "      <td>NaN</td>\n",
       "      <td>NaN</td>\n",
       "      <td>NaN</td>\n",
       "      <td>0</td>\n",
       "      <td>12</td>\n",
       "      <td>2008</td>\n",
       "      <td>WD</td>\n",
       "      <td>Normal</td>\n",
       "    </tr>\n",
       "  </tbody>\n",
       "</table>\n",
       "<p>5 rows × 80 columns</p>\n",
       "</div>"
      ],
      "text/plain": [
       "   Id  MSSubClass MSZoning  LotFrontage  LotArea Street Alley LotShape  \\\n",
       "0   1          60       RL         65.0     8450   Pave   NaN      Reg   \n",
       "1   2          20       RL         80.0     9600   Pave   NaN      Reg   \n",
       "2   3          60       RL         68.0    11250   Pave   NaN      IR1   \n",
       "3   4          70       RL         60.0     9550   Pave   NaN      IR1   \n",
       "4   5          60       RL         84.0    14260   Pave   NaN      IR1   \n",
       "\n",
       "  LandContour Utilities      ...       ScreenPorch PoolArea PoolQC Fence  \\\n",
       "0         Lvl    AllPub      ...                 0        0    NaN   NaN   \n",
       "1         Lvl    AllPub      ...                 0        0    NaN   NaN   \n",
       "2         Lvl    AllPub      ...                 0        0    NaN   NaN   \n",
       "3         Lvl    AllPub      ...                 0        0    NaN   NaN   \n",
       "4         Lvl    AllPub      ...                 0        0    NaN   NaN   \n",
       "\n",
       "  MiscFeature MiscVal MoSold  YrSold  SaleType  SaleCondition  \n",
       "0         NaN       0      2    2008        WD         Normal  \n",
       "1         NaN       0      5    2007        WD         Normal  \n",
       "2         NaN       0      9    2008        WD         Normal  \n",
       "3         NaN       0      2    2006        WD        Abnorml  \n",
       "4         NaN       0     12    2008        WD         Normal  \n",
       "\n",
       "[5 rows x 80 columns]"
      ]
     },
     "execution_count": 837,
     "metadata": {},
     "output_type": "execute_result"
    }
   ],
   "source": [
    "train.head()"
   ]
  },
  {
   "cell_type": "code",
   "execution_count": 838,
   "metadata": {},
   "outputs": [
    {
     "data": {
      "text/html": [
       "<div>\n",
       "<style scoped>\n",
       "    .dataframe tbody tr th:only-of-type {\n",
       "        vertical-align: middle;\n",
       "    }\n",
       "\n",
       "    .dataframe tbody tr th {\n",
       "        vertical-align: top;\n",
       "    }\n",
       "\n",
       "    .dataframe thead th {\n",
       "        text-align: right;\n",
       "    }\n",
       "</style>\n",
       "<table border=\"1\" class=\"dataframe\">\n",
       "  <thead>\n",
       "    <tr style=\"text-align: right;\">\n",
       "      <th></th>\n",
       "      <th>Id</th>\n",
       "      <th>MSSubClass</th>\n",
       "      <th>MSZoning</th>\n",
       "      <th>LotFrontage</th>\n",
       "      <th>LotArea</th>\n",
       "      <th>Street</th>\n",
       "      <th>Alley</th>\n",
       "      <th>LotShape</th>\n",
       "      <th>LandContour</th>\n",
       "      <th>Utilities</th>\n",
       "      <th>...</th>\n",
       "      <th>ScreenPorch</th>\n",
       "      <th>PoolArea</th>\n",
       "      <th>PoolQC</th>\n",
       "      <th>Fence</th>\n",
       "      <th>MiscFeature</th>\n",
       "      <th>MiscVal</th>\n",
       "      <th>MoSold</th>\n",
       "      <th>YrSold</th>\n",
       "      <th>SaleType</th>\n",
       "      <th>SaleCondition</th>\n",
       "    </tr>\n",
       "  </thead>\n",
       "  <tbody>\n",
       "    <tr>\n",
       "      <th>0</th>\n",
       "      <td>1101</td>\n",
       "      <td>30</td>\n",
       "      <td>RL</td>\n",
       "      <td>60.0</td>\n",
       "      <td>8400</td>\n",
       "      <td>Pave</td>\n",
       "      <td>NaN</td>\n",
       "      <td>Reg</td>\n",
       "      <td>Bnk</td>\n",
       "      <td>AllPub</td>\n",
       "      <td>...</td>\n",
       "      <td>0</td>\n",
       "      <td>0</td>\n",
       "      <td>NaN</td>\n",
       "      <td>NaN</td>\n",
       "      <td>NaN</td>\n",
       "      <td>0</td>\n",
       "      <td>1</td>\n",
       "      <td>2009</td>\n",
       "      <td>WD</td>\n",
       "      <td>Normal</td>\n",
       "    </tr>\n",
       "    <tr>\n",
       "      <th>1</th>\n",
       "      <td>1102</td>\n",
       "      <td>20</td>\n",
       "      <td>RL</td>\n",
       "      <td>61.0</td>\n",
       "      <td>9758</td>\n",
       "      <td>Pave</td>\n",
       "      <td>NaN</td>\n",
       "      <td>IR1</td>\n",
       "      <td>Lvl</td>\n",
       "      <td>AllPub</td>\n",
       "      <td>...</td>\n",
       "      <td>0</td>\n",
       "      <td>0</td>\n",
       "      <td>NaN</td>\n",
       "      <td>NaN</td>\n",
       "      <td>NaN</td>\n",
       "      <td>0</td>\n",
       "      <td>7</td>\n",
       "      <td>2007</td>\n",
       "      <td>WD</td>\n",
       "      <td>Normal</td>\n",
       "    </tr>\n",
       "    <tr>\n",
       "      <th>2</th>\n",
       "      <td>1103</td>\n",
       "      <td>20</td>\n",
       "      <td>RL</td>\n",
       "      <td>70.0</td>\n",
       "      <td>7000</td>\n",
       "      <td>Pave</td>\n",
       "      <td>NaN</td>\n",
       "      <td>Reg</td>\n",
       "      <td>Lvl</td>\n",
       "      <td>AllPub</td>\n",
       "      <td>...</td>\n",
       "      <td>0</td>\n",
       "      <td>0</td>\n",
       "      <td>NaN</td>\n",
       "      <td>MnWw</td>\n",
       "      <td>NaN</td>\n",
       "      <td>0</td>\n",
       "      <td>4</td>\n",
       "      <td>2007</td>\n",
       "      <td>WD</td>\n",
       "      <td>Family</td>\n",
       "    </tr>\n",
       "    <tr>\n",
       "      <th>3</th>\n",
       "      <td>1104</td>\n",
       "      <td>20</td>\n",
       "      <td>RL</td>\n",
       "      <td>79.0</td>\n",
       "      <td>8910</td>\n",
       "      <td>Pave</td>\n",
       "      <td>NaN</td>\n",
       "      <td>Reg</td>\n",
       "      <td>Lvl</td>\n",
       "      <td>AllPub</td>\n",
       "      <td>...</td>\n",
       "      <td>0</td>\n",
       "      <td>0</td>\n",
       "      <td>NaN</td>\n",
       "      <td>NaN</td>\n",
       "      <td>NaN</td>\n",
       "      <td>0</td>\n",
       "      <td>7</td>\n",
       "      <td>2006</td>\n",
       "      <td>WD</td>\n",
       "      <td>Normal</td>\n",
       "    </tr>\n",
       "    <tr>\n",
       "      <th>4</th>\n",
       "      <td>1105</td>\n",
       "      <td>160</td>\n",
       "      <td>RM</td>\n",
       "      <td>24.0</td>\n",
       "      <td>2016</td>\n",
       "      <td>Pave</td>\n",
       "      <td>NaN</td>\n",
       "      <td>Reg</td>\n",
       "      <td>Lvl</td>\n",
       "      <td>AllPub</td>\n",
       "      <td>...</td>\n",
       "      <td>0</td>\n",
       "      <td>0</td>\n",
       "      <td>NaN</td>\n",
       "      <td>NaN</td>\n",
       "      <td>NaN</td>\n",
       "      <td>0</td>\n",
       "      <td>4</td>\n",
       "      <td>2007</td>\n",
       "      <td>WD</td>\n",
       "      <td>Normal</td>\n",
       "    </tr>\n",
       "  </tbody>\n",
       "</table>\n",
       "<p>5 rows × 80 columns</p>\n",
       "</div>"
      ],
      "text/plain": [
       "     Id  MSSubClass MSZoning  LotFrontage  LotArea Street Alley LotShape  \\\n",
       "0  1101          30       RL         60.0     8400   Pave   NaN      Reg   \n",
       "1  1102          20       RL         61.0     9758   Pave   NaN      IR1   \n",
       "2  1103          20       RL         70.0     7000   Pave   NaN      Reg   \n",
       "3  1104          20       RL         79.0     8910   Pave   NaN      Reg   \n",
       "4  1105         160       RM         24.0     2016   Pave   NaN      Reg   \n",
       "\n",
       "  LandContour Utilities      ...       ScreenPorch PoolArea PoolQC Fence  \\\n",
       "0         Bnk    AllPub      ...                 0        0    NaN   NaN   \n",
       "1         Lvl    AllPub      ...                 0        0    NaN   NaN   \n",
       "2         Lvl    AllPub      ...                 0        0    NaN  MnWw   \n",
       "3         Lvl    AllPub      ...                 0        0    NaN   NaN   \n",
       "4         Lvl    AllPub      ...                 0        0    NaN   NaN   \n",
       "\n",
       "  MiscFeature MiscVal MoSold  YrSold  SaleType  SaleCondition  \n",
       "0         NaN       0      1    2009        WD         Normal  \n",
       "1         NaN       0      7    2007        WD         Normal  \n",
       "2         NaN       0      4    2007        WD         Family  \n",
       "3         NaN       0      7    2006        WD         Normal  \n",
       "4         NaN       0      4    2007        WD         Normal  \n",
       "\n",
       "[5 rows x 80 columns]"
      ]
     },
     "execution_count": 838,
     "metadata": {},
     "output_type": "execute_result"
    }
   ],
   "source": [
    "test.head()"
   ]
  },
  {
   "cell_type": "code",
   "execution_count": 839,
   "metadata": {},
   "outputs": [],
   "source": [
    "dataset = [train,test]"
   ]
  },
  {
   "cell_type": "code",
   "execution_count": 840,
   "metadata": {},
   "outputs": [],
   "source": [
    "dataset = pd.concat(dataset)"
   ]
  },
  {
   "cell_type": "code",
   "execution_count": 841,
   "metadata": {},
   "outputs": [
    {
     "name": "stdout",
     "output_type": "stream",
     "text": [
      "(1460, 80)\n"
     ]
    }
   ],
   "source": [
    "print(dataset.shape)"
   ]
  },
  {
   "cell_type": "code",
   "execution_count": 842,
   "metadata": {},
   "outputs": [
    {
     "data": {
      "text/html": [
       "<div>\n",
       "<style scoped>\n",
       "    .dataframe tbody tr th:only-of-type {\n",
       "        vertical-align: middle;\n",
       "    }\n",
       "\n",
       "    .dataframe tbody tr th {\n",
       "        vertical-align: top;\n",
       "    }\n",
       "\n",
       "    .dataframe thead th {\n",
       "        text-align: right;\n",
       "    }\n",
       "</style>\n",
       "<table border=\"1\" class=\"dataframe\">\n",
       "  <thead>\n",
       "    <tr style=\"text-align: right;\">\n",
       "      <th></th>\n",
       "      <th>Id</th>\n",
       "      <th>MSSubClass</th>\n",
       "      <th>MSZoning</th>\n",
       "      <th>LotFrontage</th>\n",
       "      <th>LotArea</th>\n",
       "      <th>Street</th>\n",
       "      <th>Alley</th>\n",
       "      <th>LotShape</th>\n",
       "      <th>LandContour</th>\n",
       "      <th>Utilities</th>\n",
       "      <th>...</th>\n",
       "      <th>ScreenPorch</th>\n",
       "      <th>PoolArea</th>\n",
       "      <th>PoolQC</th>\n",
       "      <th>Fence</th>\n",
       "      <th>MiscFeature</th>\n",
       "      <th>MiscVal</th>\n",
       "      <th>MoSold</th>\n",
       "      <th>YrSold</th>\n",
       "      <th>SaleType</th>\n",
       "      <th>SaleCondition</th>\n",
       "    </tr>\n",
       "  </thead>\n",
       "  <tbody>\n",
       "    <tr>\n",
       "      <th>0</th>\n",
       "      <td>1</td>\n",
       "      <td>60</td>\n",
       "      <td>RL</td>\n",
       "      <td>65.0</td>\n",
       "      <td>8450</td>\n",
       "      <td>Pave</td>\n",
       "      <td>NaN</td>\n",
       "      <td>Reg</td>\n",
       "      <td>Lvl</td>\n",
       "      <td>AllPub</td>\n",
       "      <td>...</td>\n",
       "      <td>0</td>\n",
       "      <td>0</td>\n",
       "      <td>NaN</td>\n",
       "      <td>NaN</td>\n",
       "      <td>NaN</td>\n",
       "      <td>0</td>\n",
       "      <td>2</td>\n",
       "      <td>2008</td>\n",
       "      <td>WD</td>\n",
       "      <td>Normal</td>\n",
       "    </tr>\n",
       "    <tr>\n",
       "      <th>1</th>\n",
       "      <td>2</td>\n",
       "      <td>20</td>\n",
       "      <td>RL</td>\n",
       "      <td>80.0</td>\n",
       "      <td>9600</td>\n",
       "      <td>Pave</td>\n",
       "      <td>NaN</td>\n",
       "      <td>Reg</td>\n",
       "      <td>Lvl</td>\n",
       "      <td>AllPub</td>\n",
       "      <td>...</td>\n",
       "      <td>0</td>\n",
       "      <td>0</td>\n",
       "      <td>NaN</td>\n",
       "      <td>NaN</td>\n",
       "      <td>NaN</td>\n",
       "      <td>0</td>\n",
       "      <td>5</td>\n",
       "      <td>2007</td>\n",
       "      <td>WD</td>\n",
       "      <td>Normal</td>\n",
       "    </tr>\n",
       "    <tr>\n",
       "      <th>2</th>\n",
       "      <td>3</td>\n",
       "      <td>60</td>\n",
       "      <td>RL</td>\n",
       "      <td>68.0</td>\n",
       "      <td>11250</td>\n",
       "      <td>Pave</td>\n",
       "      <td>NaN</td>\n",
       "      <td>IR1</td>\n",
       "      <td>Lvl</td>\n",
       "      <td>AllPub</td>\n",
       "      <td>...</td>\n",
       "      <td>0</td>\n",
       "      <td>0</td>\n",
       "      <td>NaN</td>\n",
       "      <td>NaN</td>\n",
       "      <td>NaN</td>\n",
       "      <td>0</td>\n",
       "      <td>9</td>\n",
       "      <td>2008</td>\n",
       "      <td>WD</td>\n",
       "      <td>Normal</td>\n",
       "    </tr>\n",
       "    <tr>\n",
       "      <th>3</th>\n",
       "      <td>4</td>\n",
       "      <td>70</td>\n",
       "      <td>RL</td>\n",
       "      <td>60.0</td>\n",
       "      <td>9550</td>\n",
       "      <td>Pave</td>\n",
       "      <td>NaN</td>\n",
       "      <td>IR1</td>\n",
       "      <td>Lvl</td>\n",
       "      <td>AllPub</td>\n",
       "      <td>...</td>\n",
       "      <td>0</td>\n",
       "      <td>0</td>\n",
       "      <td>NaN</td>\n",
       "      <td>NaN</td>\n",
       "      <td>NaN</td>\n",
       "      <td>0</td>\n",
       "      <td>2</td>\n",
       "      <td>2006</td>\n",
       "      <td>WD</td>\n",
       "      <td>Abnorml</td>\n",
       "    </tr>\n",
       "    <tr>\n",
       "      <th>4</th>\n",
       "      <td>5</td>\n",
       "      <td>60</td>\n",
       "      <td>RL</td>\n",
       "      <td>84.0</td>\n",
       "      <td>14260</td>\n",
       "      <td>Pave</td>\n",
       "      <td>NaN</td>\n",
       "      <td>IR1</td>\n",
       "      <td>Lvl</td>\n",
       "      <td>AllPub</td>\n",
       "      <td>...</td>\n",
       "      <td>0</td>\n",
       "      <td>0</td>\n",
       "      <td>NaN</td>\n",
       "      <td>NaN</td>\n",
       "      <td>NaN</td>\n",
       "      <td>0</td>\n",
       "      <td>12</td>\n",
       "      <td>2008</td>\n",
       "      <td>WD</td>\n",
       "      <td>Normal</td>\n",
       "    </tr>\n",
       "  </tbody>\n",
       "</table>\n",
       "<p>5 rows × 80 columns</p>\n",
       "</div>"
      ],
      "text/plain": [
       "   Id  MSSubClass MSZoning  LotFrontage  LotArea Street Alley LotShape  \\\n",
       "0   1          60       RL         65.0     8450   Pave   NaN      Reg   \n",
       "1   2          20       RL         80.0     9600   Pave   NaN      Reg   \n",
       "2   3          60       RL         68.0    11250   Pave   NaN      IR1   \n",
       "3   4          70       RL         60.0     9550   Pave   NaN      IR1   \n",
       "4   5          60       RL         84.0    14260   Pave   NaN      IR1   \n",
       "\n",
       "  LandContour Utilities      ...       ScreenPorch PoolArea PoolQC Fence  \\\n",
       "0         Lvl    AllPub      ...                 0        0    NaN   NaN   \n",
       "1         Lvl    AllPub      ...                 0        0    NaN   NaN   \n",
       "2         Lvl    AllPub      ...                 0        0    NaN   NaN   \n",
       "3         Lvl    AllPub      ...                 0        0    NaN   NaN   \n",
       "4         Lvl    AllPub      ...                 0        0    NaN   NaN   \n",
       "\n",
       "  MiscFeature MiscVal MoSold  YrSold  SaleType  SaleCondition  \n",
       "0         NaN       0      2    2008        WD         Normal  \n",
       "1         NaN       0      5    2007        WD         Normal  \n",
       "2         NaN       0      9    2008        WD         Normal  \n",
       "3         NaN       0      2    2006        WD        Abnorml  \n",
       "4         NaN       0     12    2008        WD         Normal  \n",
       "\n",
       "[5 rows x 80 columns]"
      ]
     },
     "execution_count": 842,
     "metadata": {},
     "output_type": "execute_result"
    }
   ],
   "source": [
    "dataset.head()"
   ]
  },
  {
   "cell_type": "code",
   "execution_count": 843,
   "metadata": {},
   "outputs": [
    {
     "name": "stdout",
     "output_type": "stream",
     "text": [
      "<class 'pandas.core.frame.DataFrame'>\n",
      "Int64Index: 1460 entries, 0 to 359\n",
      "Data columns (total 80 columns):\n",
      "Id               1460 non-null int64\n",
      "MSSubClass       1460 non-null int64\n",
      "MSZoning         1460 non-null object\n",
      "LotFrontage      1201 non-null float64\n",
      "LotArea          1460 non-null int64\n",
      "Street           1460 non-null object\n",
      "Alley            91 non-null object\n",
      "LotShape         1460 non-null object\n",
      "LandContour      1460 non-null object\n",
      "Utilities        1460 non-null object\n",
      "LotConfig        1460 non-null object\n",
      "LandSlope        1460 non-null object\n",
      "Neighborhood     1460 non-null object\n",
      "Condition1       1460 non-null object\n",
      "Condition2       1460 non-null object\n",
      "BldgType         1460 non-null object\n",
      "HouseStyle       1460 non-null object\n",
      "OverallQual      1460 non-null int64\n",
      "OverallCond      1460 non-null int64\n",
      "YearBuilt        1460 non-null int64\n",
      "YearRemodAdd     1460 non-null int64\n",
      "RoofStyle        1460 non-null object\n",
      "RoofMatl         1460 non-null object\n",
      "Exterior1st      1460 non-null object\n",
      "Exterior2nd      1460 non-null object\n",
      "MasVnrType       1452 non-null object\n",
      "MasVnrArea       1452 non-null float64\n",
      "ExterQual        1460 non-null object\n",
      "ExterCond        1460 non-null object\n",
      "Foundation       1460 non-null object\n",
      "BsmtQual         1423 non-null object\n",
      "BsmtCond         1423 non-null object\n",
      "BsmtExposure     1422 non-null object\n",
      "BsmtFinType1     1423 non-null object\n",
      "BsmtFinSF1       1460 non-null int64\n",
      "BsmtFinType2     1422 non-null object\n",
      "BsmtFinSF2       1460 non-null int64\n",
      "BsmtUnfSF        1460 non-null int64\n",
      "TotalBsmtSF      1460 non-null int64\n",
      "Heating          1460 non-null object\n",
      "HeatingQC        1460 non-null object\n",
      "CentralAir       1460 non-null object\n",
      "Electrical       1459 non-null object\n",
      "1stFlrSF         1460 non-null int64\n",
      "2ndFlrSF         1460 non-null int64\n",
      "LowQualFinSF     1460 non-null int64\n",
      "GrLivArea        1460 non-null int64\n",
      "BsmtFullBath     1460 non-null int64\n",
      "BsmtHalfBath     1460 non-null int64\n",
      "FullBath         1460 non-null int64\n",
      "HalfBath         1460 non-null int64\n",
      "BedroomAbvGr     1460 non-null int64\n",
      "KitchenAbvGr     1460 non-null int64\n",
      "KitchenQual      1460 non-null object\n",
      "TotRmsAbvGrd     1460 non-null int64\n",
      "Functional       1460 non-null object\n",
      "Fireplaces       1460 non-null int64\n",
      "FireplaceQu      770 non-null object\n",
      "GarageType       1379 non-null object\n",
      "GarageYrBlt      1379 non-null float64\n",
      "GarageFinish     1379 non-null object\n",
      "GarageCars       1460 non-null int64\n",
      "GarageArea       1460 non-null int64\n",
      "GarageQual       1379 non-null object\n",
      "GarageCond       1379 non-null object\n",
      "PavedDrive       1460 non-null object\n",
      "WoodDeckSF       1460 non-null int64\n",
      "OpenPorchSF      1460 non-null int64\n",
      "EnclosedPorch    1460 non-null int64\n",
      "3SsnPorch        1460 non-null int64\n",
      "ScreenPorch      1460 non-null int64\n",
      "PoolArea         1460 non-null int64\n",
      "PoolQC           7 non-null object\n",
      "Fence            281 non-null object\n",
      "MiscFeature      54 non-null object\n",
      "MiscVal          1460 non-null int64\n",
      "MoSold           1460 non-null int64\n",
      "YrSold           1460 non-null int64\n",
      "SaleType         1460 non-null object\n",
      "SaleCondition    1460 non-null object\n",
      "dtypes: float64(3), int64(34), object(43)\n",
      "memory usage: 923.9+ KB\n"
     ]
    }
   ],
   "source": [
    "dataset.info()"
   ]
  },
  {
   "cell_type": "code",
   "execution_count": 844,
   "metadata": {},
   "outputs": [],
   "source": [
    "mean = float(round(np.mean(dataset['LotFrontage'])))"
   ]
  },
  {
   "cell_type": "code",
   "execution_count": 845,
   "metadata": {},
   "outputs": [
    {
     "name": "stdout",
     "output_type": "stream",
     "text": [
      "70.0\n"
     ]
    }
   ],
   "source": [
    "print(mean)"
   ]
  },
  {
   "cell_type": "code",
   "execution_count": 846,
   "metadata": {},
   "outputs": [],
   "source": [
    "dataset['LotFrontage'].fillna(value=mean,inplace=True)"
   ]
  },
  {
   "cell_type": "code",
   "execution_count": 847,
   "metadata": {},
   "outputs": [
    {
     "name": "stdout",
     "output_type": "stream",
     "text": [
      "Grvl    50\n",
      "Pave    41\n",
      "Name: Alley, dtype: int64\n"
     ]
    }
   ],
   "source": [
    "print(dataset['Alley'].value_counts())"
   ]
  },
  {
   "cell_type": "code",
   "execution_count": 848,
   "metadata": {},
   "outputs": [],
   "source": [
    "dataset['Alley'].fillna(value='NA',inplace=True)"
   ]
  },
  {
   "cell_type": "code",
   "execution_count": 849,
   "metadata": {},
   "outputs": [
    {
     "name": "stdout",
     "output_type": "stream",
     "text": [
      "None       864\n",
      "BrkFace    445\n",
      "Stone      128\n",
      "BrkCmn      15\n",
      "Name: MasVnrType, dtype: int64\n"
     ]
    }
   ],
   "source": [
    "print(dataset['MasVnrType'].value_counts())"
   ]
  },
  {
   "cell_type": "code",
   "execution_count": 850,
   "metadata": {},
   "outputs": [],
   "source": [
    "dataset['MasVnrType'].fillna('None',inplace=True)"
   ]
  },
  {
   "cell_type": "code",
   "execution_count": 851,
   "metadata": {},
   "outputs": [],
   "source": [
    "dataset['MasVnrArea'].fillna(0.0,inplace=True)"
   ]
  },
  {
   "cell_type": "code",
   "execution_count": 852,
   "metadata": {},
   "outputs": [
    {
     "data": {
      "text/plain": [
       "TA    649\n",
       "Gd    618\n",
       "Ex    121\n",
       "Fa     35\n",
       "Name: BsmtQual, dtype: int64"
      ]
     },
     "execution_count": 852,
     "metadata": {},
     "output_type": "execute_result"
    }
   ],
   "source": [
    "dataset['BsmtQual'].value_counts()"
   ]
  },
  {
   "cell_type": "code",
   "execution_count": 853,
   "metadata": {},
   "outputs": [],
   "source": [
    "dataset['BsmtQual'].fillna(value='TA',inplace=True)"
   ]
  },
  {
   "cell_type": "code",
   "execution_count": 854,
   "metadata": {},
   "outputs": [
    {
     "data": {
      "text/plain": [
       "TA    1311\n",
       "Gd      65\n",
       "Fa      45\n",
       "Po       2\n",
       "Name: BsmtCond, dtype: int64"
      ]
     },
     "execution_count": 854,
     "metadata": {},
     "output_type": "execute_result"
    }
   ],
   "source": [
    "dataset['BsmtCond'].value_counts()"
   ]
  },
  {
   "cell_type": "code",
   "execution_count": 855,
   "metadata": {},
   "outputs": [],
   "source": [
    "dataset['BsmtCond'].fillna(value='TA',inplace=True)"
   ]
  },
  {
   "cell_type": "code",
   "execution_count": 856,
   "metadata": {},
   "outputs": [
    {
     "name": "stdout",
     "output_type": "stream",
     "text": [
      "<class 'pandas.core.frame.DataFrame'>\n",
      "Int64Index: 1460 entries, 0 to 359\n",
      "Data columns (total 80 columns):\n",
      "Id               1460 non-null int64\n",
      "MSSubClass       1460 non-null int64\n",
      "MSZoning         1460 non-null object\n",
      "LotFrontage      1460 non-null float64\n",
      "LotArea          1460 non-null int64\n",
      "Street           1460 non-null object\n",
      "Alley            1460 non-null object\n",
      "LotShape         1460 non-null object\n",
      "LandContour      1460 non-null object\n",
      "Utilities        1460 non-null object\n",
      "LotConfig        1460 non-null object\n",
      "LandSlope        1460 non-null object\n",
      "Neighborhood     1460 non-null object\n",
      "Condition1       1460 non-null object\n",
      "Condition2       1460 non-null object\n",
      "BldgType         1460 non-null object\n",
      "HouseStyle       1460 non-null object\n",
      "OverallQual      1460 non-null int64\n",
      "OverallCond      1460 non-null int64\n",
      "YearBuilt        1460 non-null int64\n",
      "YearRemodAdd     1460 non-null int64\n",
      "RoofStyle        1460 non-null object\n",
      "RoofMatl         1460 non-null object\n",
      "Exterior1st      1460 non-null object\n",
      "Exterior2nd      1460 non-null object\n",
      "MasVnrType       1460 non-null object\n",
      "MasVnrArea       1460 non-null float64\n",
      "ExterQual        1460 non-null object\n",
      "ExterCond        1460 non-null object\n",
      "Foundation       1460 non-null object\n",
      "BsmtQual         1460 non-null object\n",
      "BsmtCond         1460 non-null object\n",
      "BsmtExposure     1422 non-null object\n",
      "BsmtFinType1     1423 non-null object\n",
      "BsmtFinSF1       1460 non-null int64\n",
      "BsmtFinType2     1422 non-null object\n",
      "BsmtFinSF2       1460 non-null int64\n",
      "BsmtUnfSF        1460 non-null int64\n",
      "TotalBsmtSF      1460 non-null int64\n",
      "Heating          1460 non-null object\n",
      "HeatingQC        1460 non-null object\n",
      "CentralAir       1460 non-null object\n",
      "Electrical       1459 non-null object\n",
      "1stFlrSF         1460 non-null int64\n",
      "2ndFlrSF         1460 non-null int64\n",
      "LowQualFinSF     1460 non-null int64\n",
      "GrLivArea        1460 non-null int64\n",
      "BsmtFullBath     1460 non-null int64\n",
      "BsmtHalfBath     1460 non-null int64\n",
      "FullBath         1460 non-null int64\n",
      "HalfBath         1460 non-null int64\n",
      "BedroomAbvGr     1460 non-null int64\n",
      "KitchenAbvGr     1460 non-null int64\n",
      "KitchenQual      1460 non-null object\n",
      "TotRmsAbvGrd     1460 non-null int64\n",
      "Functional       1460 non-null object\n",
      "Fireplaces       1460 non-null int64\n",
      "FireplaceQu      770 non-null object\n",
      "GarageType       1379 non-null object\n",
      "GarageYrBlt      1379 non-null float64\n",
      "GarageFinish     1379 non-null object\n",
      "GarageCars       1460 non-null int64\n",
      "GarageArea       1460 non-null int64\n",
      "GarageQual       1379 non-null object\n",
      "GarageCond       1379 non-null object\n",
      "PavedDrive       1460 non-null object\n",
      "WoodDeckSF       1460 non-null int64\n",
      "OpenPorchSF      1460 non-null int64\n",
      "EnclosedPorch    1460 non-null int64\n",
      "3SsnPorch        1460 non-null int64\n",
      "ScreenPorch      1460 non-null int64\n",
      "PoolArea         1460 non-null int64\n",
      "PoolQC           7 non-null object\n",
      "Fence            281 non-null object\n",
      "MiscFeature      54 non-null object\n",
      "MiscVal          1460 non-null int64\n",
      "MoSold           1460 non-null int64\n",
      "YrSold           1460 non-null int64\n",
      "SaleType         1460 non-null object\n",
      "SaleCondition    1460 non-null object\n",
      "dtypes: float64(3), int64(34), object(43)\n",
      "memory usage: 923.9+ KB\n"
     ]
    }
   ],
   "source": [
    "dataset.info()"
   ]
  },
  {
   "cell_type": "code",
   "execution_count": 857,
   "metadata": {},
   "outputs": [
    {
     "data": {
      "text/plain": [
       "No    953\n",
       "Av    221\n",
       "Gd    134\n",
       "Mn    114\n",
       "Name: BsmtExposure, dtype: int64"
      ]
     },
     "execution_count": 857,
     "metadata": {},
     "output_type": "execute_result"
    }
   ],
   "source": [
    "dataset['BsmtExposure'].value_counts()"
   ]
  },
  {
   "cell_type": "code",
   "execution_count": 858,
   "metadata": {},
   "outputs": [],
   "source": [
    "dataset['BsmtExposure'].fillna(value='No',inplace=True)"
   ]
  },
  {
   "cell_type": "code",
   "execution_count": 859,
   "metadata": {},
   "outputs": [
    {
     "data": {
      "text/plain": [
       "Unf    430\n",
       "GLQ    418\n",
       "ALQ    220\n",
       "BLQ    148\n",
       "Rec    133\n",
       "LwQ     74\n",
       "Name: BsmtFinType1, dtype: int64"
      ]
     },
     "execution_count": 859,
     "metadata": {},
     "output_type": "execute_result"
    }
   ],
   "source": [
    "dataset['BsmtFinType1'].value_counts()"
   ]
  },
  {
   "cell_type": "code",
   "execution_count": 860,
   "metadata": {},
   "outputs": [],
   "source": [
    "dataset['BsmtFinType1'].fillna(value='Unf',inplace=True)"
   ]
  },
  {
   "cell_type": "code",
   "execution_count": 861,
   "metadata": {},
   "outputs": [
    {
     "data": {
      "text/plain": [
       "Unf    1256\n",
       "Rec      54\n",
       "LwQ      46\n",
       "BLQ      33\n",
       "ALQ      19\n",
       "GLQ      14\n",
       "Name: BsmtFinType2, dtype: int64"
      ]
     },
     "execution_count": 861,
     "metadata": {},
     "output_type": "execute_result"
    }
   ],
   "source": [
    "dataset['BsmtFinType2'].value_counts()"
   ]
  },
  {
   "cell_type": "code",
   "execution_count": 862,
   "metadata": {},
   "outputs": [],
   "source": [
    "dataset['BsmtFinType2'].fillna(value='Unf',inplace=True)"
   ]
  },
  {
   "cell_type": "code",
   "execution_count": 863,
   "metadata": {},
   "outputs": [
    {
     "name": "stdout",
     "output_type": "stream",
     "text": [
      "<class 'pandas.core.frame.DataFrame'>\n",
      "Int64Index: 1460 entries, 0 to 359\n",
      "Data columns (total 80 columns):\n",
      "Id               1460 non-null int64\n",
      "MSSubClass       1460 non-null int64\n",
      "MSZoning         1460 non-null object\n",
      "LotFrontage      1460 non-null float64\n",
      "LotArea          1460 non-null int64\n",
      "Street           1460 non-null object\n",
      "Alley            1460 non-null object\n",
      "LotShape         1460 non-null object\n",
      "LandContour      1460 non-null object\n",
      "Utilities        1460 non-null object\n",
      "LotConfig        1460 non-null object\n",
      "LandSlope        1460 non-null object\n",
      "Neighborhood     1460 non-null object\n",
      "Condition1       1460 non-null object\n",
      "Condition2       1460 non-null object\n",
      "BldgType         1460 non-null object\n",
      "HouseStyle       1460 non-null object\n",
      "OverallQual      1460 non-null int64\n",
      "OverallCond      1460 non-null int64\n",
      "YearBuilt        1460 non-null int64\n",
      "YearRemodAdd     1460 non-null int64\n",
      "RoofStyle        1460 non-null object\n",
      "RoofMatl         1460 non-null object\n",
      "Exterior1st      1460 non-null object\n",
      "Exterior2nd      1460 non-null object\n",
      "MasVnrType       1460 non-null object\n",
      "MasVnrArea       1460 non-null float64\n",
      "ExterQual        1460 non-null object\n",
      "ExterCond        1460 non-null object\n",
      "Foundation       1460 non-null object\n",
      "BsmtQual         1460 non-null object\n",
      "BsmtCond         1460 non-null object\n",
      "BsmtExposure     1460 non-null object\n",
      "BsmtFinType1     1460 non-null object\n",
      "BsmtFinSF1       1460 non-null int64\n",
      "BsmtFinType2     1460 non-null object\n",
      "BsmtFinSF2       1460 non-null int64\n",
      "BsmtUnfSF        1460 non-null int64\n",
      "TotalBsmtSF      1460 non-null int64\n",
      "Heating          1460 non-null object\n",
      "HeatingQC        1460 non-null object\n",
      "CentralAir       1460 non-null object\n",
      "Electrical       1459 non-null object\n",
      "1stFlrSF         1460 non-null int64\n",
      "2ndFlrSF         1460 non-null int64\n",
      "LowQualFinSF     1460 non-null int64\n",
      "GrLivArea        1460 non-null int64\n",
      "BsmtFullBath     1460 non-null int64\n",
      "BsmtHalfBath     1460 non-null int64\n",
      "FullBath         1460 non-null int64\n",
      "HalfBath         1460 non-null int64\n",
      "BedroomAbvGr     1460 non-null int64\n",
      "KitchenAbvGr     1460 non-null int64\n",
      "KitchenQual      1460 non-null object\n",
      "TotRmsAbvGrd     1460 non-null int64\n",
      "Functional       1460 non-null object\n",
      "Fireplaces       1460 non-null int64\n",
      "FireplaceQu      770 non-null object\n",
      "GarageType       1379 non-null object\n",
      "GarageYrBlt      1379 non-null float64\n",
      "GarageFinish     1379 non-null object\n",
      "GarageCars       1460 non-null int64\n",
      "GarageArea       1460 non-null int64\n",
      "GarageQual       1379 non-null object\n",
      "GarageCond       1379 non-null object\n",
      "PavedDrive       1460 non-null object\n",
      "WoodDeckSF       1460 non-null int64\n",
      "OpenPorchSF      1460 non-null int64\n",
      "EnclosedPorch    1460 non-null int64\n",
      "3SsnPorch        1460 non-null int64\n",
      "ScreenPorch      1460 non-null int64\n",
      "PoolArea         1460 non-null int64\n",
      "PoolQC           7 non-null object\n",
      "Fence            281 non-null object\n",
      "MiscFeature      54 non-null object\n",
      "MiscVal          1460 non-null int64\n",
      "MoSold           1460 non-null int64\n",
      "YrSold           1460 non-null int64\n",
      "SaleType         1460 non-null object\n",
      "SaleCondition    1460 non-null object\n",
      "dtypes: float64(3), int64(34), object(43)\n",
      "memory usage: 923.9+ KB\n"
     ]
    }
   ],
   "source": [
    "dataset.info()"
   ]
  },
  {
   "cell_type": "code",
   "execution_count": 864,
   "metadata": {},
   "outputs": [
    {
     "data": {
      "text/plain": [
       "SBrkr    1334\n",
       "FuseA      94\n",
       "FuseF      27\n",
       "FuseP       3\n",
       "Mix         1\n",
       "Name: Electrical, dtype: int64"
      ]
     },
     "execution_count": 864,
     "metadata": {},
     "output_type": "execute_result"
    }
   ],
   "source": [
    "dataset['Electrical'].value_counts()"
   ]
  },
  {
   "cell_type": "code",
   "execution_count": 865,
   "metadata": {},
   "outputs": [],
   "source": [
    "dataset['Electrical'].fillna(value='SBrkr',inplace=True)"
   ]
  },
  {
   "cell_type": "code",
   "execution_count": 866,
   "metadata": {},
   "outputs": [
    {
     "data": {
      "text/plain": [
       "Gd    380\n",
       "TA    313\n",
       "Fa     33\n",
       "Ex     24\n",
       "Po     20\n",
       "Name: FireplaceQu, dtype: int64"
      ]
     },
     "execution_count": 866,
     "metadata": {},
     "output_type": "execute_result"
    }
   ],
   "source": [
    "dataset['FireplaceQu'].value_counts()"
   ]
  },
  {
   "cell_type": "code",
   "execution_count": 867,
   "metadata": {},
   "outputs": [],
   "source": [
    "dataset['FireplaceQu'].fillna(value='Gd',inplace=True)"
   ]
  },
  {
   "cell_type": "code",
   "execution_count": 868,
   "metadata": {},
   "outputs": [
    {
     "data": {
      "text/plain": [
       "Attchd     870\n",
       "Detchd     387\n",
       "BuiltIn     88\n",
       "Basment     19\n",
       "CarPort      9\n",
       "2Types       6\n",
       "Name: GarageType, dtype: int64"
      ]
     },
     "execution_count": 868,
     "metadata": {},
     "output_type": "execute_result"
    }
   ],
   "source": [
    "dataset['GarageType'].value_counts()"
   ]
  },
  {
   "cell_type": "code",
   "execution_count": 869,
   "metadata": {},
   "outputs": [],
   "source": [
    "dataset['GarageType'].fillna(value='Attchd',inplace=True)"
   ]
  },
  {
   "cell_type": "code",
   "execution_count": 870,
   "metadata": {},
   "outputs": [],
   "source": [
    "dataset['GarageYrBlt'].fillna(value=float(round(np.mean(dataset['GarageYrBlt']))),inplace=True)"
   ]
  },
  {
   "cell_type": "code",
   "execution_count": 871,
   "metadata": {},
   "outputs": [
    {
     "data": {
      "text/plain": [
       "Unf    605\n",
       "RFn    422\n",
       "Fin    352\n",
       "Name: GarageFinish, dtype: int64"
      ]
     },
     "execution_count": 871,
     "metadata": {},
     "output_type": "execute_result"
    }
   ],
   "source": [
    "dataset['GarageFinish'].value_counts()"
   ]
  },
  {
   "cell_type": "code",
   "execution_count": 872,
   "metadata": {},
   "outputs": [],
   "source": [
    "dataset['GarageFinish'].fillna(value='Unf',inplace=True)"
   ]
  },
  {
   "cell_type": "code",
   "execution_count": 873,
   "metadata": {},
   "outputs": [
    {
     "data": {
      "text/plain": [
       "TA    1311\n",
       "Fa      48\n",
       "Gd      14\n",
       "Po       3\n",
       "Ex       3\n",
       "Name: GarageQual, dtype: int64"
      ]
     },
     "execution_count": 873,
     "metadata": {},
     "output_type": "execute_result"
    }
   ],
   "source": [
    "dataset['GarageQual'].value_counts()"
   ]
  },
  {
   "cell_type": "code",
   "execution_count": 874,
   "metadata": {},
   "outputs": [],
   "source": [
    "dataset['GarageQual'].fillna(value='TA',inplace=True)"
   ]
  },
  {
   "cell_type": "code",
   "execution_count": 875,
   "metadata": {},
   "outputs": [
    {
     "data": {
      "text/plain": [
       "TA    1326\n",
       "Fa      35\n",
       "Gd       9\n",
       "Po       7\n",
       "Ex       2\n",
       "Name: GarageCond, dtype: int64"
      ]
     },
     "execution_count": 875,
     "metadata": {},
     "output_type": "execute_result"
    }
   ],
   "source": [
    "dataset['GarageCond'].value_counts()"
   ]
  },
  {
   "cell_type": "code",
   "execution_count": 876,
   "metadata": {},
   "outputs": [],
   "source": [
    "dataset['GarageCond'].fillna(value='TA',inplace=True)"
   ]
  },
  {
   "cell_type": "code",
   "execution_count": 877,
   "metadata": {},
   "outputs": [],
   "source": [
    "dataset['PoolQC'].fillna(value='NA',inplace=True)"
   ]
  },
  {
   "cell_type": "code",
   "execution_count": 878,
   "metadata": {},
   "outputs": [],
   "source": [
    "dataset.drop(columns=['Fence','MiscFeature','Id'],inplace=True)"
   ]
  },
  {
   "cell_type": "code",
   "execution_count": 879,
   "metadata": {},
   "outputs": [
    {
     "name": "stdout",
     "output_type": "stream",
     "text": [
      "(1460, 77)\n"
     ]
    }
   ],
   "source": [
    "print(dataset.shape)"
   ]
  },
  {
   "cell_type": "code",
   "execution_count": 880,
   "metadata": {},
   "outputs": [],
   "source": [
    "from sklearn.preprocessing import LabelEncoder,OneHotEncoder"
   ]
  },
  {
   "cell_type": "code",
   "execution_count": 881,
   "metadata": {},
   "outputs": [],
   "source": [
    "categorical_encoding = dataset.dtypes == 'object'"
   ]
  },
  {
   "cell_type": "code",
   "execution_count": 882,
   "metadata": {},
   "outputs": [
    {
     "name": "stdout",
     "output_type": "stream",
     "text": [
      "MSSubClass       False\n",
      "MSZoning          True\n",
      "LotFrontage      False\n",
      "LotArea          False\n",
      "Street            True\n",
      "Alley             True\n",
      "LotShape          True\n",
      "LandContour       True\n",
      "Utilities         True\n",
      "LotConfig         True\n",
      "LandSlope         True\n",
      "Neighborhood      True\n",
      "Condition1        True\n",
      "Condition2        True\n",
      "BldgType          True\n",
      "HouseStyle        True\n",
      "OverallQual      False\n",
      "OverallCond      False\n",
      "YearBuilt        False\n",
      "YearRemodAdd     False\n",
      "RoofStyle         True\n",
      "RoofMatl          True\n",
      "Exterior1st       True\n",
      "Exterior2nd       True\n",
      "MasVnrType        True\n",
      "MasVnrArea       False\n",
      "ExterQual         True\n",
      "ExterCond         True\n",
      "Foundation        True\n",
      "BsmtQual          True\n",
      "                 ...  \n",
      "BsmtHalfBath     False\n",
      "FullBath         False\n",
      "HalfBath         False\n",
      "BedroomAbvGr     False\n",
      "KitchenAbvGr     False\n",
      "KitchenQual       True\n",
      "TotRmsAbvGrd     False\n",
      "Functional        True\n",
      "Fireplaces       False\n",
      "FireplaceQu       True\n",
      "GarageType        True\n",
      "GarageYrBlt      False\n",
      "GarageFinish      True\n",
      "GarageCars       False\n",
      "GarageArea       False\n",
      "GarageQual        True\n",
      "GarageCond        True\n",
      "PavedDrive        True\n",
      "WoodDeckSF       False\n",
      "OpenPorchSF      False\n",
      "EnclosedPorch    False\n",
      "3SsnPorch        False\n",
      "ScreenPorch      False\n",
      "PoolArea         False\n",
      "PoolQC            True\n",
      "MiscVal          False\n",
      "MoSold           False\n",
      "YrSold           False\n",
      "SaleType          True\n",
      "SaleCondition     True\n",
      "Length: 77, dtype: bool\n"
     ]
    }
   ],
   "source": [
    "print(categorical_encoding)"
   ]
  },
  {
   "cell_type": "code",
   "execution_count": 883,
   "metadata": {},
   "outputs": [],
   "source": [
    "categorical_encoding[0] = True"
   ]
  },
  {
   "cell_type": "code",
   "execution_count": 884,
   "metadata": {},
   "outputs": [
    {
     "name": "stdout",
     "output_type": "stream",
     "text": [
      "MSSubClass        True\n",
      "MSZoning          True\n",
      "LotFrontage      False\n",
      "LotArea          False\n",
      "Street            True\n",
      "Alley             True\n",
      "LotShape          True\n",
      "LandContour       True\n",
      "Utilities         True\n",
      "LotConfig         True\n",
      "LandSlope         True\n",
      "Neighborhood      True\n",
      "Condition1        True\n",
      "Condition2        True\n",
      "BldgType          True\n",
      "HouseStyle        True\n",
      "OverallQual      False\n",
      "OverallCond      False\n",
      "YearBuilt        False\n",
      "YearRemodAdd     False\n",
      "RoofStyle         True\n",
      "RoofMatl          True\n",
      "Exterior1st       True\n",
      "Exterior2nd       True\n",
      "MasVnrType        True\n",
      "MasVnrArea       False\n",
      "ExterQual         True\n",
      "ExterCond         True\n",
      "Foundation        True\n",
      "BsmtQual          True\n",
      "                 ...  \n",
      "BsmtHalfBath     False\n",
      "FullBath         False\n",
      "HalfBath         False\n",
      "BedroomAbvGr     False\n",
      "KitchenAbvGr     False\n",
      "KitchenQual       True\n",
      "TotRmsAbvGrd     False\n",
      "Functional        True\n",
      "Fireplaces       False\n",
      "FireplaceQu       True\n",
      "GarageType        True\n",
      "GarageYrBlt      False\n",
      "GarageFinish      True\n",
      "GarageCars       False\n",
      "GarageArea       False\n",
      "GarageQual        True\n",
      "GarageCond        True\n",
      "PavedDrive        True\n",
      "WoodDeckSF       False\n",
      "OpenPorchSF      False\n",
      "EnclosedPorch    False\n",
      "3SsnPorch        False\n",
      "ScreenPorch      False\n",
      "PoolArea         False\n",
      "PoolQC            True\n",
      "MiscVal          False\n",
      "MoSold           False\n",
      "YrSold           False\n",
      "SaleType          True\n",
      "SaleCondition     True\n",
      "Length: 77, dtype: bool\n"
     ]
    }
   ],
   "source": [
    "print(categorical_encoding)"
   ]
  },
  {
   "cell_type": "code",
   "execution_count": 885,
   "metadata": {},
   "outputs": [],
   "source": [
    "categorical_encoding = categorical_encoding.tolist()"
   ]
  },
  {
   "cell_type": "code",
   "execution_count": 886,
   "metadata": {},
   "outputs": [
    {
     "name": "stdout",
     "output_type": "stream",
     "text": [
      "[True, True, False, False, True, True, True, True, True, True, True, True, True, True, True, True, False, False, False, False, True, True, True, True, True, False, True, True, True, True, True, True, True, False, True, False, False, False, True, True, True, True, False, False, False, False, False, False, False, False, False, False, True, False, True, False, True, True, False, True, False, False, True, True, True, False, False, False, False, False, False, True, False, False, False, True, True]\n"
     ]
    }
   ],
   "source": [
    "print(categorical_encoding)"
   ]
  },
  {
   "cell_type": "code",
   "execution_count": 887,
   "metadata": {},
   "outputs": [],
   "source": [
    "categorical_columns = dataset.columns[categorical_encoding].tolist()"
   ]
  },
  {
   "cell_type": "code",
   "execution_count": 888,
   "metadata": {},
   "outputs": [
    {
     "name": "stdout",
     "output_type": "stream",
     "text": [
      "['MSSubClass', 'MSZoning', 'Street', 'Alley', 'LotShape', 'LandContour', 'Utilities', 'LotConfig', 'LandSlope', 'Neighborhood', 'Condition1', 'Condition2', 'BldgType', 'HouseStyle', 'RoofStyle', 'RoofMatl', 'Exterior1st', 'Exterior2nd', 'MasVnrType', 'ExterQual', 'ExterCond', 'Foundation', 'BsmtQual', 'BsmtCond', 'BsmtExposure', 'BsmtFinType1', 'BsmtFinType2', 'Heating', 'HeatingQC', 'CentralAir', 'Electrical', 'KitchenQual', 'Functional', 'FireplaceQu', 'GarageType', 'GarageFinish', 'GarageQual', 'GarageCond', 'PavedDrive', 'PoolQC', 'SaleType', 'SaleCondition']\n"
     ]
    }
   ],
   "source": [
    "print(categorical_columns)"
   ]
  },
  {
   "cell_type": "code",
   "execution_count": 889,
   "metadata": {},
   "outputs": [],
   "source": [
    "le = LabelEncoder()"
   ]
  },
  {
   "cell_type": "code",
   "execution_count": 890,
   "metadata": {},
   "outputs": [],
   "source": [
    "dataset[categorical_columns] = dataset[categorical_columns].apply(le.fit_transform)"
   ]
  },
  {
   "cell_type": "code",
   "execution_count": 891,
   "metadata": {},
   "outputs": [
    {
     "name": "stdout",
     "output_type": "stream",
     "text": [
      "(1460, 77)\n"
     ]
    }
   ],
   "source": [
    "print(dataset.shape)"
   ]
  },
  {
   "cell_type": "code",
   "execution_count": 892,
   "metadata": {},
   "outputs": [],
   "source": [
    "ohe = OneHotEncoder(categorical_features=categorical_encoding,sparse=False)"
   ]
  },
  {
   "cell_type": "code",
   "execution_count": 893,
   "metadata": {},
   "outputs": [
    {
     "name": "stderr",
     "output_type": "stream",
     "text": [
      "/home/yatin/anaconda3/lib/python3.7/site-packages/sklearn/preprocessing/_encoders.py:368: FutureWarning: The handling of integer data will change in version 0.22. Currently, the categories are determined based on the range [0, max(values)], while in the future they will be determined based on the unique values.\n",
      "If you want the future behaviour and silence this warning, you can specify \"categories='auto'\".\n",
      "In case you used a LabelEncoder before this OneHotEncoder to convert the categories to integers, then you can now use the OneHotEncoder directly.\n",
      "  warnings.warn(msg, FutureWarning)\n"
     ]
    }
   ],
   "source": [
    "dataset = ohe.fit_transform(dataset)"
   ]
  },
  {
   "cell_type": "code",
   "execution_count": 894,
   "metadata": {},
   "outputs": [
    {
     "name": "stdout",
     "output_type": "stream",
     "text": [
      "(1460, 296)\n"
     ]
    }
   ],
   "source": [
    "print(dataset.shape)"
   ]
  },
  {
   "cell_type": "code",
   "execution_count": 895,
   "metadata": {},
   "outputs": [],
   "source": [
    "X_train = dataset[:1100,:]\n",
    "Xtest = dataset[1100:,:]"
   ]
  },
  {
   "cell_type": "code",
   "execution_count": 896,
   "metadata": {},
   "outputs": [
    {
     "name": "stdout",
     "output_type": "stream",
     "text": [
      "(1100, 296)\n",
      "(360, 296)\n"
     ]
    }
   ],
   "source": [
    "print(X_train.shape)\n",
    "print(Xtest.shape)"
   ]
  },
  {
   "cell_type": "code",
   "execution_count": 897,
   "metadata": {},
   "outputs": [],
   "source": [
    "Ytrain = np.array(Ytrain)"
   ]
  },
  {
   "cell_type": "code",
   "execution_count": 898,
   "metadata": {},
   "outputs": [
    {
     "name": "stdout",
     "output_type": "stream",
     "text": [
      "(1100,)\n"
     ]
    }
   ],
   "source": [
    "print(Ytrain.shape)"
   ]
  },
  {
   "cell_type": "code",
   "execution_count": 899,
   "metadata": {},
   "outputs": [
    {
     "name": "stdout",
     "output_type": "stream",
     "text": [
      "<class 'numpy.ndarray'>\n"
     ]
    }
   ],
   "source": [
    "print(type(Ytrain))"
   ]
  },
  {
   "cell_type": "code",
   "execution_count": 900,
   "metadata": {},
   "outputs": [],
   "source": [
    "from tensorflow.keras.models import Sequential\n",
    "from tensorflow.keras.layers import Dense\n",
    "from tensorflow.keras.callbacks import ModelCheckpoint,EarlyStopping"
   ]
  },
  {
   "cell_type": "code",
   "execution_count": 901,
   "metadata": {},
   "outputs": [],
   "source": [
    "model = Sequential()"
   ]
  },
  {
   "cell_type": "code",
   "execution_count": 902,
   "metadata": {},
   "outputs": [],
   "source": [
    "model.add(Dense(800,activation='relu',input_dim=296))\n",
    "model.add(Dense(500,activation='relu'))\n",
    "model.add(Dense(600,activation='relu'))\n",
    "model.add(Dense(400,activation='relu'))\n",
    "model.add(Dense(200,activation='relu'))\n",
    "model.add(Dense(100,activation='relu'))\n",
    "model.add(Dense(50,activation='relu'))\n",
    "model.add(Dense(1,activation='linear'))"
   ]
  },
  {
   "cell_type": "code",
   "execution_count": 903,
   "metadata": {},
   "outputs": [
    {
     "name": "stdout",
     "output_type": "stream",
     "text": [
      "Model: \"sequential_8\"\n",
      "_________________________________________________________________\n",
      "Layer (type)                 Output Shape              Param #   \n",
      "=================================================================\n",
      "dense_61 (Dense)             (None, 800)               237600    \n",
      "_________________________________________________________________\n",
      "dense_62 (Dense)             (None, 500)               400500    \n",
      "_________________________________________________________________\n",
      "dense_63 (Dense)             (None, 600)               300600    \n",
      "_________________________________________________________________\n",
      "dense_64 (Dense)             (None, 400)               240400    \n",
      "_________________________________________________________________\n",
      "dense_65 (Dense)             (None, 200)               80200     \n",
      "_________________________________________________________________\n",
      "dense_66 (Dense)             (None, 100)               20100     \n",
      "_________________________________________________________________\n",
      "dense_67 (Dense)             (None, 50)                5050      \n",
      "_________________________________________________________________\n",
      "dense_68 (Dense)             (None, 1)                 51        \n",
      "=================================================================\n",
      "Total params: 1,284,501\n",
      "Trainable params: 1,284,501\n",
      "Non-trainable params: 0\n",
      "_________________________________________________________________\n"
     ]
    }
   ],
   "source": [
    "model.summary()"
   ]
  },
  {
   "cell_type": "code",
   "execution_count": 904,
   "metadata": {},
   "outputs": [],
   "source": [
    "model.compile(optimizer='adam',loss='mean_squared_error',metrics=['mae'])"
   ]
  },
  {
   "cell_type": "code",
   "execution_count": 905,
   "metadata": {},
   "outputs": [],
   "source": [
    "modelCheckPoint = ModelCheckpoint('model.h5',monitor='val_mae',verbose=1,save_best_only=True)\n",
    "earlyStopping = EarlyStopping(monitor='val_mae',min_delta=0.05,patience=10,verbose=1,restore_best_weights=True)\n",
    "callbacks=[modelCheckPoint,earlyStopping]"
   ]
  },
  {
   "cell_type": "code",
   "execution_count": 906,
   "metadata": {},
   "outputs": [
    {
     "name": "stdout",
     "output_type": "stream",
     "text": [
      "Train on 1100 samples\n",
      "Epoch 1/40\n",
      "1100/1100 [==============================] - 0s 365us/sample - loss: 33381588463.2436 - mae: 163397.5781\n",
      "Epoch 2/40\n",
      "1100/1100 [==============================] - 0s 96us/sample - loss: 12578556596.5964 - mae: 58460.3438\n",
      "Epoch 3/40\n",
      "1100/1100 [==============================] - 0s 101us/sample - loss: 7562201047.0400 - mae: 58427.2969\n",
      "Epoch 4/40\n",
      "1100/1100 [==============================] - 0s 93us/sample - loss: 4518937611.1709 - mae: 46004.6094\n",
      "Epoch 5/40\n",
      "1100/1100 [==============================] - 0s 98us/sample - loss: 3618583868.5091 - mae: 43864.3594\n",
      "Epoch 6/40\n",
      "1100/1100 [==============================] - 0s 95us/sample - loss: 3334128909.0327 - mae: 42365.5625\n",
      "Epoch 7/40\n",
      "1100/1100 [==============================] - 0s 110us/sample - loss: 3150488420.5382 - mae: 40274.7070\n",
      "Epoch 8/40\n",
      "1100/1100 [==============================] - 0s 95us/sample - loss: 2782238887.5636 - mae: 37574.9688\n",
      "Epoch 9/40\n",
      "1100/1100 [==============================] - 0s 105us/sample - loss: 2509350152.3782 - mae: 35552.8398\n",
      "Epoch 10/40\n",
      "1100/1100 [==============================] - 0s 95us/sample - loss: 2453786905.6000 - mae: 33647.4258\n",
      "Epoch 11/40\n",
      "1100/1100 [==============================] - 0s 100us/sample - loss: 2150182211.9564 - mae: 31872.8770\n",
      "Epoch 12/40\n",
      "1100/1100 [==============================] - 0s 97us/sample - loss: 1921903845.9345 - mae: 29212.8379\n",
      "Epoch 13/40\n",
      "1100/1100 [==============================] - 0s 101us/sample - loss: 1915821882.1818 - mae: 29624.2812\n",
      "Epoch 14/40\n",
      "1100/1100 [==============================] - 0s 103us/sample - loss: 1877542379.5200 - mae: 30440.3809\n",
      "Epoch 15/40\n",
      "1100/1100 [==============================] - 0s 88us/sample - loss: 1738267773.6727 - mae: 29081.9883\n",
      "Epoch 16/40\n",
      "1100/1100 [==============================] - 0s 99us/sample - loss: 1711530444.3345 - mae: 27912.3340\n",
      "Epoch 17/40\n",
      "1100/1100 [==============================] - 0s 103us/sample - loss: 1738384881.1055 - mae: 28031.3027\n",
      "Epoch 18/40\n",
      "1100/1100 [==============================] - 0s 100us/sample - loss: 1633733776.0582 - mae: 26658.4980\n",
      "Epoch 19/40\n",
      "1100/1100 [==============================] - 0s 83us/sample - loss: 1728719450.7636 - mae: 28075.5703\n",
      "Epoch 20/40\n",
      "1100/1100 [==============================] - 0s 98us/sample - loss: 1821343238.5164 - mae: 29038.2520\n",
      "Epoch 21/40\n",
      "1100/1100 [==============================] - 0s 98us/sample - loss: 1652806896.1745 - mae: 27844.3574\n",
      "Epoch 22/40\n",
      "1100/1100 [==============================] - 0s 86us/sample - loss: 1524305973.0618 - mae: 25886.7188\n",
      "Epoch 23/40\n",
      "1100/1100 [==============================] - 0s 109us/sample - loss: 1512674365.9055 - mae: 25850.6992\n",
      "Epoch 24/40\n",
      "1100/1100 [==============================] - 0s 87us/sample - loss: 1571513561.8327 - mae: 26635.7637\n",
      "Epoch 25/40\n",
      "1100/1100 [==============================] - 0s 94us/sample - loss: 1736686275.0255 - mae: 28967.1758\n",
      "Epoch 26/40\n",
      "1100/1100 [==============================] - 0s 103us/sample - loss: 1546782896.8727 - mae: 26287.3125\n",
      "Epoch 27/40\n",
      "1100/1100 [==============================] - 0s 95us/sample - loss: 1518845287.7964 - mae: 26636.3438\n",
      "Epoch 28/40\n",
      "1100/1100 [==============================] - 0s 100us/sample - loss: 1535199405.6145 - mae: 26726.6465\n",
      "Epoch 29/40\n",
      "1100/1100 [==============================] - 0s 80us/sample - loss: 1497284071.3309 - mae: 26545.6973\n",
      "Epoch 30/40\n",
      "1100/1100 [==============================] - 0s 102us/sample - loss: 1546187943.0982 - mae: 26344.6055\n",
      "Epoch 31/40\n",
      "1100/1100 [==============================] - 0s 97us/sample - loss: 1439504124.5091 - mae: 25068.9473\n",
      "Epoch 32/40\n",
      "1100/1100 [==============================] - 0s 90us/sample - loss: 1445259740.6255 - mae: 25457.9746\n",
      "Epoch 33/40\n",
      "1100/1100 [==============================] - 0s 103us/sample - loss: 1436032499.4327 - mae: 25650.4512\n",
      "Epoch 34/40\n",
      "1100/1100 [==============================] - 0s 98us/sample - loss: 1427547319.8545 - mae: 24876.0625\n",
      "Epoch 35/40\n",
      "1100/1100 [==============================] - 0s 94us/sample - loss: 1409058492.5091 - mae: 25153.8438\n",
      "Epoch 36/40\n",
      "1100/1100 [==============================] - 0s 109us/sample - loss: 1434366241.0473 - mae: 25894.7363\n",
      "Epoch 37/40\n",
      "1100/1100 [==============================] - 0s 85us/sample - loss: 1632220770.6764 - mae: 27631.2480\n",
      "Epoch 38/40\n",
      "1100/1100 [==============================] - 0s 100us/sample - loss: 1465564208.1745 - mae: 25625.7207\n",
      "Epoch 39/40\n",
      "1100/1100 [==============================] - 0s 94us/sample - loss: 1655922727.0982 - mae: 27734.6973\n",
      "Epoch 40/40\n",
      "1100/1100 [==============================] - 0s 82us/sample - loss: 1343548141.3818 - mae: 25169.4062\n"
     ]
    }
   ],
   "source": [
    "hist = model.fit(X_train,Ytrain,batch_size=128,epochs=40)"
   ]
  },
  {
   "cell_type": "code",
   "execution_count": 907,
   "metadata": {},
   "outputs": [
    {
     "data": {
      "image/png": "[encoded data removed]",
      "text/plain": [
       "<Figure size 432x288 with 1 Axes>"
      ]
     },
     "metadata": {
      "needs_background": "light"
     },
     "output_type": "display_data"
    }
   ],
   "source": [
    "plt.plot(hist.history['loss'])\n",
    "plt.show()"
   ]
  },
  {
   "cell_type": "code",
   "execution_count": null,
   "metadata": {},
   "outputs": [],
   "source": []
  },
  {
   "cell_type": "code",
   "execution_count": 908,
   "metadata": {},
   "outputs": [
    {
     "name": "stdout",
     "output_type": "stream",
     "text": [
      "1100/1100 [==============================] - 0s 127us/sample - loss: 1347747273.0764 - mae: 24684.3066\n"
     ]
    },
    {
     "data": {
      "text/plain": [
       "[1347747273.0763636, 24684.307]"
      ]
     },
     "execution_count": 908,
     "metadata": {},
     "output_type": "execute_result"
    }
   ],
   "source": [
    "model.evaluate(X_train,Ytrain)"
   ]
  },
  {
   "cell_type": "code",
   "execution_count": 909,
   "metadata": {},
   "outputs": [
    {
     "data": {
      "image/png": "[encoded data removed]",
      "text/plain": [
       "<Figure size 432x288 with 1 Axes>"
      ]
     },
     "metadata": {
      "needs_background": "light"
     },
     "output_type": "display_data"
    }
   ],
   "source": [
    "plt.plot(hist.history['mae'])\n",
    "plt.show()"
   ]
  },
  {
   "cell_type": "code",
   "execution_count": null,
   "metadata": {},
   "outputs": [],
   "source": []
  },
  {
   "cell_type": "code",
   "execution_count": 914,
   "metadata": {},
   "outputs": [],
   "source": [
    "Ytest = model.predict(Xtest)"
   ]
  },
  {
   "cell_type": "code",
   "execution_count": 915,
   "metadata": {},
   "outputs": [
    {
     "name": "stdout",
     "output_type": "stream",
     "text": [
      "(360, 1)\n"
     ]
    }
   ],
   "source": [
    "print(Ytest.shape)"
   ]
  },
  {
   "cell_type": "code",
   "execution_count": 916,
   "metadata": {},
   "outputs": [
    {
     "name": "stdout",
     "output_type": "stream",
     "text": [
      "[[ 59000.496]\n",
      " [110098.65 ]\n",
      " [126834.42 ]\n",
      " [118175.11 ]\n",
      " [123607.05 ]\n",
      " [332603.16 ]\n",
      " [177426.23 ]\n",
      " [194526.02 ]\n",
      " [169020.61 ]\n",
      " [289960.47 ]\n",
      " [167473.1  ]\n",
      " [207918.58 ]\n",
      " [105720.7  ]\n",
      " [119721.81 ]\n",
      " [103779.13 ]\n",
      " [275209.75 ]\n",
      " [137607.81 ]\n",
      " [121736.6  ]\n",
      " [145542.77 ]\n",
      " [109218.8  ]\n",
      " [107802.95 ]\n",
      " [216442.52 ]\n",
      " [105394.67 ]\n",
      " [ 81555.34 ]\n",
      " [135591.   ]\n",
      " [132550.67 ]\n",
      " [200367.22 ]\n",
      " [212568.39 ]\n",
      " [189178.61 ]\n",
      " [146064.83 ]\n",
      " [222366.19 ]\n",
      " [101454.54 ]\n",
      " [185533.45 ]\n",
      " [216335.55 ]\n",
      " [163478.67 ]\n",
      " [108484.31 ]\n",
      " [126281.016]\n",
      " [ 79508.266]\n",
      " [244575.28 ]\n",
      " [128293.89 ]\n",
      " [148539.11 ]\n",
      " [194518.52 ]\n",
      " [378449.72 ]\n",
      " [102560.625]\n",
      " [106164.67 ]\n",
      " [142835.47 ]\n",
      " [175044.61 ]\n",
      " [141341.31 ]\n",
      " [ 91260.56 ]\n",
      " [139758.27 ]\n",
      " [ 95132.625]\n",
      " [188428.17 ]\n",
      " [150864.56 ]\n",
      " [104067.11 ]\n",
      " [212867.1  ]\n",
      " [197054.39 ]\n",
      " [159162.98 ]\n",
      " [197440.75 ]\n",
      " [213177.73 ]\n",
      " [198515.88 ]\n",
      " [139285.94 ]\n",
      " [211564.58 ]\n",
      " [118651.34 ]\n",
      " [160828.05 ]\n",
      " [184883.14 ]\n",
      " [202617.62 ]\n",
      " [229533.77 ]\n",
      " [180993.33 ]\n",
      " [218902.08 ]\n",
      " [427446.78 ]\n",
      " [139054.3  ]\n",
      " [160434.81 ]\n",
      " [132386.84 ]\n",
      " [223220.69 ]\n",
      " [210659.8  ]\n",
      " [329352.34 ]\n",
      " [119930.25 ]\n",
      " [106275.125]\n",
      " [116318.71 ]\n",
      " [ 55704.887]\n",
      " [280499.03 ]\n",
      " [238136.94 ]\n",
      " [544757.4  ]\n",
      " [165418.44 ]\n",
      " [256854.64 ]\n",
      " [114253.3  ]\n",
      " [172312.45 ]\n",
      " [223410.27 ]\n",
      " [173986.92 ]\n",
      " [178435.31 ]\n",
      " [252818.02 ]\n",
      " [154625.55 ]\n",
      " [124695.39 ]\n",
      " [183947.98 ]\n",
      " [147895.39 ]\n",
      " [143759.14 ]\n",
      " [196275.7  ]\n",
      " [125487.14 ]\n",
      " [160282.02 ]\n",
      " [154963.5  ]\n",
      " [100111.89 ]\n",
      " [184654.16 ]\n",
      " [109646.984]\n",
      " [209802.23 ]\n",
      " [144361.12 ]\n",
      " [297977.84 ]\n",
      " [138044.5  ]\n",
      " [224298.02 ]\n",
      " [139010.81 ]\n",
      " [260229.58 ]\n",
      " [205179.11 ]\n",
      " [172099.39 ]\n",
      " [ 89965.484]\n",
      " [113376.42 ]\n",
      " [128531.3  ]\n",
      " [106694.75 ]\n",
      " [134556.56 ]\n",
      " [188015.2  ]\n",
      " [ 54087.176]\n",
      " [ 98805.81 ]\n",
      " [101949.766]\n",
      " [122692.22 ]\n",
      " [181785.92 ]\n",
      " [276618.47 ]\n",
      " [167070.16 ]\n",
      " [118453.92 ]\n",
      " [204604.52 ]\n",
      " [148465.67 ]\n",
      " [333461.78 ]\n",
      " [155076.9  ]\n",
      " [224641.67 ]\n",
      " [154930.88 ]\n",
      " [ 92676.19 ]\n",
      " [162969.83 ]\n",
      " [160724.42 ]\n",
      " [158808.81 ]\n",
      " [150000.39 ]\n",
      " [188278.67 ]\n",
      " [139671.06 ]\n",
      " [185470.64 ]\n",
      " [191686.95 ]\n",
      " [237752.6  ]\n",
      " [155537.36 ]\n",
      " [333937.72 ]\n",
      " [148340.45 ]\n",
      " [184794.25 ]\n",
      " [162343.88 ]\n",
      " [166693.08 ]\n",
      " [158337.64 ]\n",
      " [114426.91 ]\n",
      " [278603.47 ]\n",
      " [181520.08 ]\n",
      " [106172.74 ]\n",
      " [203145.27 ]\n",
      " [164188.42 ]\n",
      " [152432.42 ]\n",
      " [319797.72 ]\n",
      " [ 87780.83 ]\n",
      " [144297.92 ]\n",
      " [138896.03 ]\n",
      " [174709.75 ]\n",
      " [125860.5  ]\n",
      " [170772.42 ]\n",
      " [162112.66 ]\n",
      " [178843.8  ]\n",
      " [148061.06 ]\n",
      " [149456.36 ]\n",
      " [266313.16 ]\n",
      " [365297.22 ]\n",
      " [156155.7  ]\n",
      " [203215.7  ]\n",
      " [169222.64 ]\n",
      " [123598.08 ]\n",
      " [153125.05 ]\n",
      " [128446.88 ]\n",
      " [200006.42 ]\n",
      " [166360.86 ]\n",
      " [211446.98 ]\n",
      " [234923.66 ]\n",
      " [112204.234]\n",
      " [209779.78 ]\n",
      " [180838.4  ]\n",
      " [144983.92 ]\n",
      " [149058.33 ]\n",
      " [201422.8  ]\n",
      " [125904.23 ]\n",
      " [180476.02 ]\n",
      " [228451.8  ]\n",
      " [223686.31 ]\n",
      " [262653.72 ]\n",
      " [163447.08 ]\n",
      " [118932.58 ]\n",
      " [218131.95 ]\n",
      " [181302.2  ]\n",
      " [116318.55 ]\n",
      " [145865.62 ]\n",
      " [150184.77 ]\n",
      " [118339.55 ]\n",
      " [765548.   ]\n",
      " [139181.19 ]\n",
      " [214043.6  ]\n",
      " [144909.64 ]\n",
      " [315231.28 ]\n",
      " [240201.72 ]\n",
      " [160020.02 ]\n",
      " [291046.78 ]\n",
      " [172558.16 ]\n",
      " [135384.66 ]\n",
      " [127538.59 ]\n",
      " [180450.02 ]\n",
      " [237789.48 ]\n",
      " [183853.5  ]\n",
      " [340535.03 ]\n",
      " [321024.53 ]\n",
      " [117876.4  ]\n",
      " [213214.83 ]\n",
      " [239744.6  ]\n",
      " [177129.86 ]\n",
      " [244079.92 ]\n",
      " [113985.67 ]\n",
      " [175706.47 ]\n",
      " [ 58424.168]\n",
      " [197388.06 ]\n",
      " [ 66314.016]\n",
      " [269474.5  ]\n",
      " [ 69694.81 ]\n",
      " [ 54211.215]\n",
      " [103571.03 ]\n",
      " [342559.94 ]\n",
      " [162381.78 ]\n",
      " [238098.02 ]\n",
      " [128883.11 ]\n",
      " [105026.02 ]\n",
      " [117446.19 ]\n",
      " [143556.89 ]\n",
      " [188684.67 ]\n",
      " [229770.2  ]\n",
      " [ 68429.89 ]\n",
      " [201921.25 ]\n",
      " [106241.03 ]\n",
      " [109809.33 ]\n",
      " [156327.52 ]\n",
      " [251032.   ]\n",
      " [163462.84 ]\n",
      " [146621.86 ]\n",
      " [101678.53 ]\n",
      " [215471.14 ]\n",
      " [219736.72 ]\n",
      " [209923.27 ]\n",
      " [143888.67 ]\n",
      " [316556.16 ]\n",
      " [189649.22 ]\n",
      " [134076.64 ]\n",
      " [429630.22 ]\n",
      " [233677.8  ]\n",
      " [170663.58 ]\n",
      " [106737.59 ]\n",
      " [143852.17 ]\n",
      " [150408.56 ]\n",
      " [288193.8  ]\n",
      " [202137.73 ]\n",
      " [200210.08 ]\n",
      " [150959.66 ]\n",
      " [138906.14 ]\n",
      " [118800.27 ]\n",
      " [183045.81 ]\n",
      " [197308.64 ]\n",
      " [134032.5  ]\n",
      " [123779.33 ]\n",
      " [204416.73 ]\n",
      " [118470.16 ]\n",
      " [170516.11 ]\n",
      " [248706.2  ]\n",
      " [443539.03 ]\n",
      " [243109.03 ]\n",
      " [205503.33 ]\n",
      " [ 95421.266]\n",
      " [174988.92 ]\n",
      " [ 97087.72 ]\n",
      " [126573.19 ]\n",
      " [ 90614.94 ]\n",
      " [210043.77 ]\n",
      " [141663.22 ]\n",
      " [142394.86 ]\n",
      " [116109.28 ]\n",
      " [121067.86 ]\n",
      " [293235.34 ]\n",
      " [179626.34 ]\n",
      " [264333.28 ]\n",
      " [125339.9  ]\n",
      " [232367.62 ]\n",
      " [212001.08 ]\n",
      " [123132.664]\n",
      " [154221.7  ]\n",
      " [209382.67 ]\n",
      " [268028.97 ]\n",
      " [166506.98 ]\n",
      " [123236.44 ]\n",
      " [157740.88 ]\n",
      " [148338.53 ]\n",
      " [103741.84 ]\n",
      " [165515.89 ]\n",
      " [175156.4  ]\n",
      " [216900.39 ]\n",
      " [147769.83 ]\n",
      " [240051.08 ]\n",
      " [108494.31 ]\n",
      " [ 91492.92 ]\n",
      " [140788.77 ]\n",
      " [207415.02 ]\n",
      " [200684.81 ]\n",
      " [146773.58 ]\n",
      " [ 78956.516]\n",
      " [278020.12 ]\n",
      " [175575.52 ]\n",
      " [215294.02 ]\n",
      " [191914.58 ]\n",
      " [343115.22 ]\n",
      " [123170.41 ]\n",
      " [228236.61 ]\n",
      " [193410.   ]\n",
      " [141720.83 ]\n",
      " [123564.91 ]\n",
      " [201544.84 ]\n",
      " [152585.89 ]\n",
      " [159473.48 ]\n",
      " [269868.88 ]\n",
      " [150751.52 ]\n",
      " [ 97189.92 ]\n",
      " [179162.6  ]\n",
      " [176732.16 ]\n",
      " [131044.8  ]\n",
      " [ 94732.95 ]\n",
      " [184323.2  ]\n",
      " [161582.42 ]\n",
      " [174230.16 ]\n",
      " [120481.49 ]\n",
      " [306599.06 ]\n",
      " [160499.67 ]\n",
      " [151967.39 ]\n",
      " [198097.75 ]\n",
      " [123498.47 ]\n",
      " [251827.05 ]\n",
      " [107744.84 ]\n",
      " [189594.67 ]\n",
      " [ 80803.39 ]\n",
      " [163079.8  ]\n",
      " [256684.83 ]\n",
      " [131977.08 ]\n",
      " [ 63646.156]\n",
      " [145157.9  ]\n",
      " [221376.84 ]\n",
      " [116853.   ]\n",
      " [121659.54 ]\n",
      " [152964.05 ]\n",
      " [163532.25 ]\n",
      " [237551.6  ]\n",
      " [192052.17 ]\n",
      " [113003.92 ]\n",
      " [169685.8  ]]\n"
     ]
    }
   ],
   "source": [
    "print(Ytest)"
   ]
  },
  {
   "cell_type": "code",
   "execution_count": 917,
   "metadata": {},
   "outputs": [],
   "source": [
    "label = []"
   ]
  },
  {
   "cell_type": "code",
   "execution_count": 918,
   "metadata": {},
   "outputs": [],
   "source": [
    "for i in range(1101,1461):\n",
    "    label.append(i)"
   ]
  },
  {
   "cell_type": "code",
   "execution_count": 919,
   "metadata": {},
   "outputs": [],
   "source": [
    "label = np.array(label)"
   ]
  },
  {
   "cell_type": "code",
   "execution_count": 920,
   "metadata": {},
   "outputs": [],
   "source": [
    "df1 = pd.DataFrame(data=label,columns=['Id'])"
   ]
  },
  {
   "cell_type": "code",
   "execution_count": 921,
   "metadata": {},
   "outputs": [
    {
     "data": {
      "text/html": [
       "<div>\n",
       "<style scoped>\n",
       "    .dataframe tbody tr th:only-of-type {\n",
       "        vertical-align: middle;\n",
       "    }\n",
       "\n",
       "    .dataframe tbody tr th {\n",
       "        vertical-align: top;\n",
       "    }\n",
       "\n",
       "    .dataframe thead th {\n",
       "        text-align: right;\n",
       "    }\n",
       "</style>\n",
       "<table border=\"1\" class=\"dataframe\">\n",
       "  <thead>\n",
       "    <tr style=\"text-align: right;\">\n",
       "      <th></th>\n",
       "      <th>Id</th>\n",
       "    </tr>\n",
       "  </thead>\n",
       "  <tbody>\n",
       "    <tr>\n",
       "      <th>0</th>\n",
       "      <td>1101</td>\n",
       "    </tr>\n",
       "    <tr>\n",
       "      <th>1</th>\n",
       "      <td>1102</td>\n",
       "    </tr>\n",
       "    <tr>\n",
       "      <th>2</th>\n",
       "      <td>1103</td>\n",
       "    </tr>\n",
       "    <tr>\n",
       "      <th>3</th>\n",
       "      <td>1104</td>\n",
       "    </tr>\n",
       "    <tr>\n",
       "      <th>4</th>\n",
       "      <td>1105</td>\n",
       "    </tr>\n",
       "  </tbody>\n",
       "</table>\n",
       "</div>"
      ],
      "text/plain": [
       "     Id\n",
       "0  1101\n",
       "1  1102\n",
       "2  1103\n",
       "3  1104\n",
       "4  1105"
      ]
     },
     "execution_count": 921,
     "metadata": {},
     "output_type": "execute_result"
    }
   ],
   "source": [
    "df1.head()"
   ]
  },
  {
   "cell_type": "code",
   "execution_count": 922,
   "metadata": {},
   "outputs": [],
   "source": [
    "df2 = pd.DataFrame(data=Ytest,columns=['SalePrice'])"
   ]
  },
  {
   "cell_type": "code",
   "execution_count": 923,
   "metadata": {},
   "outputs": [
    {
     "data": {
      "text/html": [
       "<div>\n",
       "<style scoped>\n",
       "    .dataframe tbody tr th:only-of-type {\n",
       "        vertical-align: middle;\n",
       "    }\n",
       "\n",
       "    .dataframe tbody tr th {\n",
       "        vertical-align: top;\n",
       "    }\n",
       "\n",
       "    .dataframe thead th {\n",
       "        text-align: right;\n",
       "    }\n",
       "</style>\n",
       "<table border=\"1\" class=\"dataframe\">\n",
       "  <thead>\n",
       "    <tr style=\"text-align: right;\">\n",
       "      <th></th>\n",
       "      <th>SalePrice</th>\n",
       "    </tr>\n",
       "  </thead>\n",
       "  <tbody>\n",
       "    <tr>\n",
       "      <th>0</th>\n",
       "      <td>59000.496094</td>\n",
       "    </tr>\n",
       "    <tr>\n",
       "      <th>1</th>\n",
       "      <td>110098.648438</td>\n",
       "    </tr>\n",
       "    <tr>\n",
       "      <th>2</th>\n",
       "      <td>126834.421875</td>\n",
       "    </tr>\n",
       "    <tr>\n",
       "      <th>3</th>\n",
       "      <td>118175.109375</td>\n",
       "    </tr>\n",
       "    <tr>\n",
       "      <th>4</th>\n",
       "      <td>123607.046875</td>\n",
       "    </tr>\n",
       "  </tbody>\n",
       "</table>\n",
       "</div>"
      ],
      "text/plain": [
       "       SalePrice\n",
       "0   59000.496094\n",
       "1  110098.648438\n",
       "2  126834.421875\n",
       "3  118175.109375\n",
       "4  123607.046875"
      ]
     },
     "execution_count": 923,
     "metadata": {},
     "output_type": "execute_result"
    }
   ],
   "source": [
    "df2.head()"
   ]
  },
  {
   "cell_type": "code",
   "execution_count": 924,
   "metadata": {},
   "outputs": [],
   "source": [
    "df = pd.concat([df1,df2],axis=1)"
   ]
  },
  {
   "cell_type": "code",
   "execution_count": 925,
   "metadata": {},
   "outputs": [
    {
     "data": {
      "text/html": [
       "<div>\n",
       "<style scoped>\n",
       "    .dataframe tbody tr th:only-of-type {\n",
       "        vertical-align: middle;\n",
       "    }\n",
       "\n",
       "    .dataframe tbody tr th {\n",
       "        vertical-align: top;\n",
       "    }\n",
       "\n",
       "    .dataframe thead th {\n",
       "        text-align: right;\n",
       "    }\n",
       "</style>\n",
       "<table border=\"1\" class=\"dataframe\">\n",
       "  <thead>\n",
       "    <tr style=\"text-align: right;\">\n",
       "      <th></th>\n",
       "      <th>Id</th>\n",
       "      <th>SalePrice</th>\n",
       "    </tr>\n",
       "  </thead>\n",
       "  <tbody>\n",
       "    <tr>\n",
       "      <th>0</th>\n",
       "      <td>1101</td>\n",
       "      <td>59000.496094</td>\n",
       "    </tr>\n",
       "    <tr>\n",
       "      <th>1</th>\n",
       "      <td>1102</td>\n",
       "      <td>110098.648438</td>\n",
       "    </tr>\n",
       "    <tr>\n",
       "      <th>2</th>\n",
       "      <td>1103</td>\n",
       "      <td>126834.421875</td>\n",
       "    </tr>\n",
       "    <tr>\n",
       "      <th>3</th>\n",
       "      <td>1104</td>\n",
       "      <td>118175.109375</td>\n",
       "    </tr>\n",
       "    <tr>\n",
       "      <th>4</th>\n",
       "      <td>1105</td>\n",
       "      <td>123607.046875</td>\n",
       "    </tr>\n",
       "  </tbody>\n",
       "</table>\n",
       "</div>"
      ],
      "text/plain": [
       "     Id      SalePrice\n",
       "0  1101   59000.496094\n",
       "1  1102  110098.648438\n",
       "2  1103  126834.421875\n",
       "3  1104  118175.109375\n",
       "4  1105  123607.046875"
      ]
     },
     "execution_count": 925,
     "metadata": {},
     "output_type": "execute_result"
    }
   ],
   "source": [
    "df.head()"
   ]
  },
  {
   "cell_type": "code",
   "execution_count": 926,
   "metadata": {},
   "outputs": [
    {
     "name": "stdout",
     "output_type": "stream",
     "text": [
      "(360, 2)\n"
     ]
    }
   ],
   "source": [
    "print(df.shape)"
   ]
  },
  {
   "cell_type": "code",
   "execution_count": 927,
   "metadata": {},
   "outputs": [],
   "source": [
    "df.to_csv('submit6.csv',index=False)"
   ]
  },
  {
   "cell_type": "code",
   "execution_count": null,
   "metadata": {},
   "outputs": [],
   "source": []
  }
 ],
 "metadata": {
  "kernelspec": {
   "display_name": "Python 3",
   "language": "python",
   "name": "python3"
  },
  "language_info": {
   "codemirror_mode": {
    "name": "ipython",
    "version": 3
   },
   "file_extension": ".py",
   "mimetype": "text/x-python",
   "name": "python",
   "nbconvert_exporter": "python",
   "pygments_lexer": "ipython3",
   "version": "3.7.1"
  }
 },
 "nbformat": 4,
 "nbformat_minor": 2
}
